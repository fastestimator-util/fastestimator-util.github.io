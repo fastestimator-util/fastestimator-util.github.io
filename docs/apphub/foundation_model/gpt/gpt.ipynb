{
 "cells": [
  {
   "cell_type": "markdown",
   "metadata": {},
   "source": [
    "# Generative Pretrained Transformer (GPT)\n",
    "\n",
    "[[Paper](https://s3-us-west-2.amazonaws.com/openai-assets/research-covers/language-unsupervised/language_understanding_paper.pdf)] [[Notebook](https://github.com/fastestimator/fastestimator/blob/master/apphub/foundation_model/gpt/gpt.ipynb)] [[TF Implementation](https://github.com/fastestimator/fastestimator/blob/master/apphub/foundation_model/gpt/gpt_tf.py)] [[Torch Implementation](https://github.com/fastestimator/fastestimator/blob/master/apphub/foundation_model/gpt/gpt_torch.py)]\n",
    "\n",
    "Generative Pretrained Transformer, also known as GPT, has demonstrated significant success in different language problems. GPT is a transformer-based generative model for language modeling task. Despite being trained only on language modeling task, GPT's capability can [extend beyond the the language modeling scope](https://arxiv.org/abs/2005.14165) to perform well on almost any language task. Furthermore, researchers found that as the model and data size increase, the GPT model is observed to gain foundational understanding of human language, such that any downstream language task can be achieved with little to no extra training. This finding has started a new \"gold rush\" in the field of AI - the pursuit of foundation model. \n",
    "\n",
    "In this apphub, we will implement GPT model in FastEstiamtor using PyTorch backend. We will showcase the building blocks of GPT, along with its training details. The model we'll be training in this example won't be a billion or trillion parameter model, but with a slight adjustment of model parameters, our code base can be used to produce billion-parameter large language models with state-of-the-art performance."
   ]
  },
  {
   "cell_type": "markdown",
   "metadata": {},
   "source": [
    "## Getting Things Ready\n",
    "First let's get the import out of the way."
   ]
  },
  {
   "cell_type": "code",
   "execution_count": null,
   "metadata": {
    "slideshow": {
     "slide_type": ""
    },
    "tags": []
   },
   "outputs": [],
   "source": [
    "import random\n",
    "import tempfile\n",
    "\n",
    "import numpy as np\n",
    "import pandas as pd\n",
    "import torch\n",
    "import torch.nn as nn\n",
    "from torch.nn import functional as F\n",
    "from torch.utils.data import Dataset\n",
    "from transformers import AutoTokenizer\n",
    "\n",
    "import fastestimator as fe\n",
    "from fastestimator.dataset.data import wikitext_103\n",
    "from fastestimator.op.numpyop import LambdaOp, NumpyOp\n",
    "from fastestimator.op.tensorop import LambdaOp as TLambdaOp\n",
    "from fastestimator.op.tensorop import TensorOp\n",
    "from fastestimator.op.tensorop.model import ModelOp, UpdateOp\n",
    "from fastestimator.trace.io import BestModelSaver\n"
   ]
  },
  {
   "cell_type": "markdown",
   "metadata": {},
   "source": [
    "Next, we define some parameters that we will use in this notebook:"
   ]
  },
  {
   "cell_type": "code",
   "execution_count": 2,
   "metadata": {
    "slideshow": {
     "slide_type": ""
    },
    "tags": [
     "parameters"
    ]
   },
   "outputs": [],
   "source": [
    "data_dir=None\n",
    "epochs=50\n",
    "batch_size=32\n",
    "context_len=512\n",
    "num_blocks=6\n",
    "em_dim=1024\n",
    "ffwd_dim=4096\n",
    "num_heads=16\n",
    "save_dir=tempfile.mkdtemp()\n",
    "train_steps_per_epoch=3000\n",
    "eval_steps_per_epoch=500\n"
   ]
  },
  {
   "cell_type": "markdown",
   "metadata": {
    "slideshow": {
     "slide_type": ""
    },
    "tags": []
   },
   "source": [
    "## Loading Data\n",
    "For training we will use wikitext-103 dataset, which contains 28475 wiki articles and 103 million tokens. Although our training data contains hundreds of millions of tokens, our data is nothing comparing with what people train nowadays - the entire internet. But still, our training data serves a good demonstration purpose in this apphub."
   ]
  },
  {
   "cell_type": "code",
   "execution_count": 3,
   "metadata": {},
   "outputs": [],
   "source": [
    "class TextDataset(Dataset):\n",
    "    def __init__(self, file_path, num_chars=5000):\n",
    "        super().__init__()\n",
    "        self.texts = self._read_file(file_path)\n",
    "        self.num_chars = num_chars\n",
    "\n",
    "    @staticmethod\n",
    "    def _read_file(path):\n",
    "        text = ''.join(pd.read_parquet(path, engine='fastparquet')['text'].to_list())\n",
    "        return text\n",
    "\n",
    "    def __len__(self):\n",
    "        # this is just a placeholder, we use 'train_steps_per_epoch' to control training length\n",
    "        return 10000\n",
    "\n",
    "    def __getitem__(self, idx):\n",
    "        start_idx = random.randint(0, len(self.texts) - self.num_chars - 1)\n",
    "        random_text = self.texts[start_idx:start_idx + self.num_chars]\n",
    "        return {\"x\": random_text[random_text.index(\" \") + 1:]}  # always start from a new word\n",
    "\n",
    "train_data, eval_data, test_data = wikitext_103.load_data(data_dir)\n",
    "train_data, eval_data, test_data = TextDataset(train_data), TextDataset(eval_data), TextDataset(test_data)\n"
   ]
  },
  {
   "cell_type": "markdown",
   "metadata": {},
   "source": [
    "Here we are reading the whole data into memory since the overall text file size is only ~200MB. In large-scale training, you will need to make sure the dataset reads data on the fly with `NumpyOp`. For each training sample, our dataset class will randomly extract 5000 continuous characters from the entire pool of articles. One sample's text looks like following:"
   ]
  },
  {
   "cell_type": "code",
   "execution_count": 7,
   "metadata": {},
   "outputs": [
    {
     "name": "stdout",
     "output_type": "stream",
     "text": [
      "Two on November 12 , 1997 . The episode 's initial broadcast was viewed by approximately 16 @.@ 59 million people , which represented 16 % of the viewing audience during that time . \n",
      " Both Gillian Anderson and David Duchovny consider this among the best episodes of the fourth season . Composer Mark Snow was nominated for an Emmy Award for the music he produced for this episode . He said of the episode 's music , \" It was a different kind of texture for the show . Light , magic , nothing terribly threatening \" . Snow received many requests for a recording of the music used at the end of the episode . \n",
      " Website IGN named \" Paper Hearts \" their sixth favorite \" standalone \" episode of the show , calling it \" creepy and unsettling \" , and claiming Noonan 's character was \" one of the most disturbing villains to make an appearance in the series \" . Noonan 's acting has also been praised by Vince Gilligan , who says the \" understated \" manner in which Roche is portrayed \" sends chills down [\n"
     ]
    }
   ],
   "source": [
    "sample_text = train_data[0]['x'][:1000]\n",
    "\n",
    "print(sample_text)\n"
   ]
  },
  {
   "cell_type": "markdown",
   "metadata": {},
   "source": [
    "## Tokenization\n",
    "AI model deals with numbers, not text. Therefore, we need a special process to convert text into number, and this is called `tokenization`. Tokenization can take place in many levels: character level, word level, sentence level, and so on.  The most popular approach used by current large language model is the word level.\n",
    "\n",
    "The naive way of doing word-level tokenization is to simply store vocabulary of all possible words, and perform a mapping between possible word to index. However, the limitation of word mapping is that there are many out-of-vocabulary words people customize to express specific meanings, which makes it almost impossible for pre-defined vocabulary to capture all the words. For example the word `FastEstimator` technically doesn't exist in English, but we all know what it means. :) \n",
    "\n",
    "To overcome the above challenge, people created sub-word tokenization. This is more consistent with how english grammar works and it can significantly reduce the chance of encountering unknown words. More importantly, this also increases the reusability of tokens and reduce the problem space quite well.\n",
    "\n",
    "There are many sweet toolkits that provide available tokenization functionality, this time we will use HuggingFace's GPT2 tokenization scheme."
   ]
  },
  {
   "cell_type": "code",
   "execution_count": 8,
   "metadata": {},
   "outputs": [],
   "source": [
    "tokenizer = AutoTokenizer.from_pretrained(\"gpt2\")\n"
   ]
  },
  {
   "cell_type": "markdown",
   "metadata": {},
   "source": [
    "Now let's play with tokenization on some sample text:"
   ]
  },
  {
   "cell_type": "code",
   "execution_count": 9,
   "metadata": {},
   "outputs": [
    {
     "name": "stdout",
     "output_type": "stream",
     "text": [
      "Original Text: Two on November 12 , 1997 . The episode 's initial\n",
      "Encoded Tokens: [7571, 319, 3389, 1105, 837, 8309, 764, 383, 4471, 705, 82, 4238]\n",
      "Decoded Text: Two on November 12, 1997. The episode's initial\n"
     ]
    }
   ],
   "source": [
    "original_sample_text = sample_text[:50]\n",
    "tokens = tokenizer.encode(original_sample_text)\n",
    "decoded_text = tokenizer.decode(tokens)\n",
    "\n",
    "print(\"Original Text: {}\".format(original_sample_text))\n",
    "print(\"Encoded Tokens: {}\".format(tokens))\n",
    "print(\"Decoded Text: {}\".format(decoded_text))\n"
   ]
  },
  {
   "cell_type": "markdown",
   "metadata": {},
   "source": [
    "## Data Pipeline\n",
    "\n",
    "Now we are ready to construct `Pipeline` to feed the data iteratively during training. We will make the encoding process happen on-the-fly during training. In addition, after encoding we will truncate the tokens for a maximum length."
   ]
  },
  {
   "cell_type": "code",
   "execution_count": 10,
   "metadata": {},
   "outputs": [],
   "source": [
    "class Encode(NumpyOp):\n",
    "    def __init__(self, tokenizer, inputs, outputs, mode=None):\n",
    "        super().__init__(inputs=inputs, outputs=outputs, mode=mode)\n",
    "        self.tokenizer = tokenizer\n",
    "\n",
    "    def forward(self, data, state):\n",
    "        return np.array(self.tokenizer(data, truncation=True)['input_ids'])\n",
    "\n",
    "pipeline = fe.Pipeline(\n",
    "    train_data=train_data,\n",
    "    eval_data=eval_data,\n",
    "    test_data=test_data,\n",
    "    batch_size=batch_size,\n",
    "    ops=[\n",
    "        Encode(inputs=\"x\", outputs=\"x\", tokenizer=tokenizer),\n",
    "        LambdaOp(fn=lambda x: x[:context_len + 1], inputs=\"x\", outputs=\"x\")  # get 1 more token for next word prediction's target\n",
    "    ])\n"
   ]
  },
  {
   "cell_type": "markdown",
   "metadata": {},
   "source": [
    "Now let's take a look at what's the pipeline's output.  We defined the dataset and pipeline in a way that it only contains the key `x`."
   ]
  },
  {
   "cell_type": "code",
   "execution_count": 11,
   "metadata": {},
   "outputs": [
    {
     "name": "stdout",
     "output_type": "stream",
     "text": [
      "torch.Size([32, 513])\n"
     ]
    }
   ],
   "source": [
    "batch_result = pipeline.get_results()\n",
    "print(batch_result['x'].shape)\n"
   ]
  },
  {
   "cell_type": "markdown",
   "metadata": {},
   "source": [
    "As we can see above, the value of key `x` contains the batched tokens in shape of (Batch, max_length). The max_length is defined to be the maximum length of input tokens allowed by the model plus one. We will explain the plus one part later in network."
   ]
  },
  {
   "cell_type": "markdown",
   "metadata": {},
   "source": [
    "# Define GPT Model\n",
    "\n",
    "Now we are ready to define the GPT model architecture. The model architecture is a transformer-based model built with attention blocks. We will define each one of the component from lower to upper level."
   ]
  },
  {
   "cell_type": "markdown",
   "metadata": {},
   "source": [
    "## Multi-head Attention\n",
    "\n",
    "Attention block is the building block of any transformer-based network. We described its working mechanism in [this example](https://github.com/fastestimator/fastestimator/blob/master/apphub/NLP/neural_machine_translation/transformer.ipynb). But to summarize it briefly, there are 3 vectors: `Query`,`Key`,`Value`. Given a `Query`, it would perform an interpolated version of table look-up, where the table is defined by `Key` and `Value`.\n",
    "\n",
    "Multi-head attention is basically multiple attention blocks working in parallel with results concatenated. One advantage of doing multi-head attention is that we can split the embedding dimension among multiple heads such that the computation complexity is reduced. This is similar to how group convolution reducing computation when comparing with full convolution.\n",
    "\n",
    "For language modeling task, a look-ahead mask is applied such that tokens can only attend to tokens before them, not after. This is so that we don't give away the answer too easily for next word prediction."
   ]
  },
  {
   "cell_type": "code",
   "execution_count": 12,
   "metadata": {},
   "outputs": [],
   "source": [
    "class MultiHeadAttention(nn.Module):\n",
    "    # Multi-head attention is like group convolution, but for attention.\n",
    "    def __init__(self, context_len, em_dim, num_heads=4, p_drop=0.2, use_mask=True):\n",
    "        super().__init__()\n",
    "        self.num_heads = num_heads\n",
    "        self.use_mask = use_mask\n",
    "        self.key = nn.Linear(em_dim, em_dim, bias=False)\n",
    "        self.query = nn.Linear(em_dim, em_dim, bias=False)\n",
    "        self.value = nn.Linear(em_dim, em_dim, bias=False)\n",
    "        self.projection = nn.Linear(em_dim, em_dim)\n",
    "        self.register_buffer('tril', torch.tril(torch.ones(context_len, context_len)))  # lookahead mask\n",
    "        self.dropout_attn = nn.Dropout(p_drop)\n",
    "        self.dropout_proj = nn.Dropout(p_drop)\n",
    "\n",
    "    def forward(self, x):\n",
    "        B, T, _ = x.shape  # input shape: B, seq, em_dim\n",
    "        k, q, v = self.key(x), self.query(x), self.value(x)  # B, seq, em_dim\n",
    "        # split the head and move the head dimension next to batch so heads are indepenent\n",
    "        k = k.reshape(B, T, self.num_heads, -1).permute(0, 2, 1, 3)  # B, head, seq, em_dim//head\n",
    "        q = q.reshape(B, T, self.num_heads, -1).permute(0, 2, 1, 3)  # B, head, seq, em_dim//head\n",
    "        v = v.reshape(B, T, self.num_heads, -1).permute(0, 2, 1, 3)  # B, head, seq, em_dim//head\n",
    "        # attention\n",
    "        attention = q @ k.transpose(-2, -1) * k.shape[-1]**-0.5  # B, head, seq, seq\n",
    "        if self.use_mask:\n",
    "            attention = attention.masked_fill(self.tril[:T, :T] == 0, float('-inf'))  # apply lookahead mask\n",
    "        attention = attention.softmax(dim=-1)\n",
    "        attention = self.dropout_attn(attention)\n",
    "        x = (attention @ v).permute(0, 2, 1, 3)  # B, seq, head, em_dim//head\n",
    "        x = x.reshape(B, T, -1)  # B, seq, em_dim\n",
    "        # projection\n",
    "        x = self.projection(x)\n",
    "        x = self.dropout_proj(x)\n",
    "        return x\n"
   ]
  },
  {
   "cell_type": "markdown",
   "metadata": {},
   "source": [
    "## Combining Multi-head Attention with Feed Forward Blocks\n",
    "\n",
    "We are now ready to define a higher-level basic unit - `AttentionBlock`, which consists of one multi-head attention and one feed forward dense layers connected through residual manner. Note that `LayerNormalization` is used here, such that each individual samples are normalized within itself."
   ]
  },
  {
   "cell_type": "code",
   "execution_count": 13,
   "metadata": {},
   "outputs": [],
   "source": [
    "class AttentionBlock(nn.Module):\n",
    "    \"\"\"multi-attention  + feedforward skip connection\"\"\"\n",
    "    def __init__(self, context_len, em_dim, num_heads, ffwd_dim, p_drop=0.2, use_mask=True):\n",
    "        super().__init__()\n",
    "        self.self_attention = MultiHeadAttention(context_len,\n",
    "                                                 em_dim,\n",
    "                                                 num_heads=num_heads,\n",
    "                                                 p_drop=p_drop,\n",
    "                                                 use_mask=use_mask)\n",
    "        self.ffwd = nn.Sequential(nn.Linear(em_dim, ffwd_dim),\n",
    "                                  nn.ReLU(),\n",
    "                                  nn.Linear(ffwd_dim, em_dim),\n",
    "                                  nn.Dropout(p_drop))\n",
    "        self.norm1 = nn.LayerNorm(em_dim)\n",
    "        self.norm2 = nn.LayerNorm(em_dim)\n",
    "\n",
    "    def forward(self, x):\n",
    "        x = x + self.self_attention(self.norm1(x))\n",
    "        x = x + self.ffwd(self.norm2(x))\n",
    "        return x\n"
   ]
  },
  {
   "cell_type": "markdown",
   "metadata": {},
   "source": [
    "## GPT Model\n",
    "\n",
    "The final GPT model contains 3 basic components: \n",
    "1. Embeddings: Both token embedding and position embedding. For position embedding, the original idea of using cosine/sine function is not necessary when we simply make them trainable. \n",
    "2. Attention Blocks: Several `AttentionBlock` in a row.\n",
    "3. Language Prediction Head: Simply a fully connected dense layer."
   ]
  },
  {
   "cell_type": "code",
   "execution_count": 14,
   "metadata": {},
   "outputs": [],
   "source": [
    "class GPT(nn.Module):\n",
    "    def __init__(self, num_blocks, vocab_size, context_len, em_dim, num_heads, ffwd_dim, p_drop=0.2, use_mask=True):\n",
    "        super().__init__()\n",
    "        self.token_embedding = nn.Embedding(vocab_size, em_dim)\n",
    "        self.position_embedding = nn.Embedding(context_len, em_dim)\n",
    "        self.blocks = nn.Sequential(\n",
    "            *[AttentionBlock(context_len, em_dim, num_heads, ffwd_dim, p_drop, use_mask) for _ in range(num_blocks)])\n",
    "        self.final_norm = nn.LayerNorm(em_dim)\n",
    "        self.lm_head = nn.Linear(em_dim, vocab_size)\n",
    "        self.register_buffer('pos_idx', torch.arange(context_len))  # position index\n",
    "        self.apply(self._init_weights)\n",
    "\n",
    "    def _init_weights(self, module):\n",
    "        if isinstance(module, nn.Linear):\n",
    "            torch.nn.init.normal_(module.weight, mean=0.0, std=0.02)\n",
    "            if module.bias is not None:\n",
    "                torch.nn.init.zeros_(module.bias)\n",
    "        elif isinstance(module, nn.Embedding):\n",
    "            torch.nn.init.normal_(module.weight, mean=0.0, std=0.02)\n",
    "\n",
    "    def forward(self, x):\n",
    "        token_em = self.token_embedding(x)\n",
    "        position_em = self.position_embedding(self.pos_idx[:x.shape[-1]])\n",
    "        x = token_em + position_em\n",
    "        x = self.blocks(x)\n",
    "        x = self.final_norm(x)\n",
    "        logits = self.lm_head(x)\n",
    "        return logits\n"
   ]
  },
  {
   "cell_type": "markdown",
   "metadata": {},
   "source": [
    "# Tensor Operations\n",
    "\n",
    "During training, here are the 4 events that will happen in sequential:\n",
    "1. We split the `x` coming from pipeline into input tokens and next word tokens.  There is a one-to-one mapping between each position.\n",
    "2. We send the input token to the GPT model to get the prediction.\n",
    "3. We calculate the cross entropy between the predicted tokens and the next word tokens as loss.\n",
    "4. Update the model based on the gradients of loss."
   ]
  },
  {
   "cell_type": "code",
   "execution_count": 15,
   "metadata": {},
   "outputs": [],
   "source": [
    "model = fe.build(\n",
    "    model_fn=lambda: GPT(num_blocks=num_blocks,\n",
    "                         vocab_size=tokenizer.vocab_size,\n",
    "                         context_len=context_len,\n",
    "                         em_dim=em_dim,\n",
    "                         num_heads=num_heads,\n",
    "                         ffwd_dim=ffwd_dim,\n",
    "                         p_drop=0.3),\n",
    "    optimizer_fn=lambda x: torch.optim.AdamW(x, lr=3e-4))\n"
   ]
  },
  {
   "cell_type": "code",
   "execution_count": 16,
   "metadata": {},
   "outputs": [],
   "source": [
    "class CrossEntropy(TensorOp):\n",
    "    def forward(self, data, state):\n",
    "        logits, targets = data\n",
    "        B, T, C = logits.shape\n",
    "        logits = logits.view(B * T, C)\n",
    "        targets = targets.reshape(B * T)\n",
    "        loss = F.cross_entropy(logits, targets)\n",
    "        return loss\n",
    "\n",
    "network = fe.Network(ops=[\n",
    "    TLambdaOp(fn=lambda x: (x[..., :-1], x[..., 1:]), inputs=\"x\", outputs=(\"input\", \"target\")),\n",
    "    ModelOp(model=model, inputs=\"input\", outputs=\"y_pred\"),\n",
    "    CrossEntropy(inputs=(\"y_pred\", \"target\"), outputs=\"ce\"),\n",
    "    UpdateOp(model=model, loss_name=\"ce\")\n",
    "])\n"
   ]
  },
  {
   "cell_type": "markdown",
   "metadata": {},
   "source": [
    "# Putting Everything Together\n",
    "\n",
    "Now that we have defined everything related to the training, we can use `Estimator` class to put them together. We save the model every time we observe a best validation loss."
   ]
  },
  {
   "cell_type": "code",
   "execution_count": 17,
   "metadata": {},
   "outputs": [],
   "source": [
    "estimator = fe.Estimator(pipeline=pipeline,\n",
    "                         network=network,\n",
    "                         epochs=epochs,\n",
    "                         traces=BestModelSaver(model=model, save_dir=save_dir),\n",
    "                         train_steps_per_epoch=train_steps_per_epoch,\n",
    "                         eval_steps_per_epoch=eval_steps_per_epoch)\n"
   ]
  },
  {
   "cell_type": "markdown",
   "metadata": {},
   "source": [
    "# Start Training\n",
    "With the default parameter, our GPT model contains 179M trainable parameters with 512 tokens as context window. We need about 40Gb GPU memory to train the model with the default batch size.   __The total training takes around 40 hours on single A100 GPU.__"
   ]
  },
  {
   "cell_type": "code",
   "execution_count": null,
   "metadata": {},
   "outputs": [],
   "source": [
    "estimator.fit(warmup=False)\n"
   ]
  },
  {
   "cell_type": "markdown",
   "metadata": {},
   "source": [
    "# Inferencing: Auto-Regressive Generation with GPT\n",
    "Once a model is trained, the model can be used to generate text based on what's given to them as context. Then we can include what's previously predicted as new input, generate the next prediction and it can just keeps going. This behavior is referred to as being `Auto Regressive`.\n",
    "\n",
    "Let's define a function that can generate responses like that:"
   ]
  },
  {
   "cell_type": "code",
   "execution_count": 18,
   "metadata": {},
   "outputs": [],
   "source": [
    "def generate_response(prompt, model, tokenizer, max_response_token=128, context_len=512):\n",
    "    device = 'cuda' if torch.cuda.is_available() else 'cpu'\n",
    "    model = model.to(device)\n",
    "    model.eval()\n",
    "    tokens = torch.Tensor(tokenizer.encode(prompt)).long().to(device)\n",
    "    num_input_tokens = tokens.shape[0]\n",
    "    assert num_input_tokens <= context_len, \"prompt exceeding maximum input tokens\"\n",
    "    tokens = tokens[None, ...]  # add batch dimension\n",
    "    responses = None\n",
    "    for _ in range(max_response_token):\n",
    "        input_tokens = tokens[:, -context_len:]\n",
    "        # get prediction\n",
    "        logits = model(input_tokens)\n",
    "        # focus only on the last time step\n",
    "        logits = logits[:, -1, :]  # becomes (B, C)\n",
    "        probs = F.softmax(logits, dim=-1)  # (B, C)\n",
    "        # sample from the distribution\n",
    "        idx_next = torch.multinomial(probs, num_samples=1)  # (B, 1)\n",
    "        if responses is None:\n",
    "            responses = idx_next\n",
    "        else:\n",
    "            responses = torch.cat((responses, idx_next), dim=1)  # (B, T+1)\n",
    "        tokens = torch.cat((tokens, idx_next), dim=1)  # (B, T+1)\n",
    "        if idx_next[0, 0] == 102:\n",
    "            break\n",
    "    responses = responses.to('cpu').numpy()\n",
    "    responses = tokenizer.decode(responses[0])\n",
    "    return responses\n"
   ]
  },
  {
   "cell_type": "markdown",
   "metadata": {},
   "source": [
    "Let's take a look at two sample responses and we can see how they are able to complete our paragraph in style similar to our training."
   ]
  },
  {
   "cell_type": "markdown",
   "metadata": {},
   "source": [
    "## Sampe 1"
   ]
  },
  {
   "cell_type": "code",
   "execution_count": 20,
   "metadata": {},
   "outputs": [
    {
     "name": "stdout",
     "output_type": "stream",
     "text": [
      "Prompt: Computer Science is not really science\n",
      "Response:  fiction. \" Chris Schilling of The Guardian described it as \" essentially an online horror game, offering something interesting and exciting. It doesn 't quite make any sense. \" A reviewer from Computer and Video Games criticised the interface, interface and camera controls, but pointed out that the game's artificial intelligence and perspective were good. The reviewer found that at the start of the fourth game, \" the sequel will strangle up the RPG elements and made sure that IGN's reviewer, Lucas Touch, would proudly announce that the good \" as the story progresses \". In contrast to its predecessor, the reviewer found that Lucasfilm Games was not\n"
     ]
    }
   ],
   "source": [
    "prompt = \"Computer Science is not really science\"\n",
    "response = generate_response(prompt, model, tokenizer, context_len=context_len)\n",
    "\n",
    "print(\"Prompt: {}\".format(prompt))\n",
    "print(\"Response: {}\".format(response))\n"
   ]
  },
  {
   "cell_type": "markdown",
   "metadata": {},
   "source": [
    "## Sample 2"
   ]
  },
  {
   "cell_type": "code",
   "execution_count": 21,
   "metadata": {},
   "outputs": [
    {
     "name": "stdout",
     "output_type": "stream",
     "text": [
      "Prompt: Artificial Intelligence is dangerous to human\n",
      "Response:  beings, while in other ways humans can withstand painful mental and physical abuse. \n",
      " \n",
      " = = Controlling = = \n",
      " \n",
      " The brain can control impulses in an action that also affects normal brain activity, including sleep, inanimate objects, and inanimate objects. However, individuals possess various brain characteristics that may serve to combat and carry information about it, such as improvements in physical and mental strength and behavior. Rather than killing innocents, the brain can essentially do so as it does for anyone or objects, but it becomes more common and more efficient when actively defending itself. \n",
      " The brain is usually led by a brain\n"
     ]
    }
   ],
   "source": [
    "prompt = \"Artificial Intelligence is dangerous to human\"\n",
    "response = generate_response(prompt, model, tokenizer, context_len=context_len)\n",
    "\n",
    "print(\"Prompt: {}\".format(prompt))\n",
    "print(\"Response: {}\".format(response))\n"
   ]
  },
  {
   "cell_type": "markdown",
   "metadata": {},
   "source": [
    "# Going Forward\n",
    "\n",
    "In large language model, the pre-training is only the first step towards making something useful. People usually take the pre-trained model and perform fine-tuning on different tasks to make more specialized model. For example, if we want to build a chat bot, then we can finetune the model on instructions (sometimes also called instruction tuning) such that the model can chat with human. Instruction tuning is an emergent field that evolves very quickly. \n",
    "\n",
    "To conclude, with pre-training, a model understands language and the world. With instruction tuning, a model becomes usable."
   ]
  },
  {
   "cell_type": "code",
   "execution_count": null,
   "metadata": {},
   "outputs": [],
   "source": []
  }
 ],
 "metadata": {
  "kernelspec": {
   "display_name": "Python 3",
   "language": "python",
   "name": "python3"
  },
  "language_info": {
   "codemirror_mode": {
    "name": "ipython",
    "version": 3
   },
   "file_extension": ".py",
   "mimetype": "text/x-python",
   "name": "python",
   "nbconvert_exporter": "python",
   "pygments_lexer": "ipython3",
   "version": "3.8.5"
  }
 },
 "nbformat": 4,
 "nbformat_minor": 5
}
