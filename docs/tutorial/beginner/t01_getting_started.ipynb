{
 "cells": [
  {
   "cell_type": "markdown",
   "metadata": {},
   "source": [
    "# Tutorial 1: Getting Started\n",
    "\n",
    "## Overview\n",
    "Welcome to FastEstimator! In this tutorial we are going to cover:\n",
    "* [The three main APIs of FastEstimator: `Pipeline`, `Network`, `Estimator`](#t01ThreeMain)\n",
    "* [An image classification example](#t01ImageClassification)\n",
    "    * [Pipeline](#t01Pipeline)\n",
    "    * [Network](#t01Network)\n",
    "    * [Estimator](#t01Estimator)\n",
    "    * [Training](#t01Training)\n",
    "    * [Inferencing](#t01Inferencing)\n",
    "* [Related Apphub Examples](#t01Apphub)"
   ]
  },
  {
   "cell_type": "markdown",
   "metadata": {},
   "source": [
    "<a id='t01ThreeMain'></a>"
   ]
  },
  {
   "cell_type": "markdown",
   "metadata": {},
   "source": [
    "## Three main APIs\n",
    "All deep learning training workﬂows involve the following three essential components, each mapping to a critical API in FastEstimator.\n",
    "\n",
    "* **Data pipeline**: extracts data from disk/RAM, performs transformations. ->  `fe.Pipeline`\n",
    "\n",
    "\n",
    "* **Network**: performs trainable and differentiable operations. ->  `fe.Network`\n",
    "\n",
    "\n",
    "* **Training loop**: combines the data pipeline and network in an iterative process. ->  `fe.Estimator`\n",
    "\n",
    "<BR>\n",
    "<BR>\n",
    "Any deep learning task can be constructed by following the 3 main steps:\n",
    "<BR>\n",
    "<p align=\"center\">\n",
    "<img src=\"https://github.com/fastestimator-util/fastestimator-misc/blob/master/resource/pictures/tutorial/t01_api.png?raw=true\" alt=\"drawing\" width=\"700\"/>\n",
    "</p>"
   ]
  },
  {
   "cell_type": "markdown",
   "metadata": {},
   "source": [
    "<a id='t01ImageClassification'></a>"
   ]
  },
  {
   "cell_type": "markdown",
   "metadata": {},
   "source": [
    "## Image Classification Example"
   ]
  },
  {
   "cell_type": "markdown",
   "metadata": {},
   "source": [
    "<a id='t01Pipeline'></a>"
   ]
  },
  {
   "cell_type": "markdown",
   "metadata": {},
   "source": [
    "### Step 1 - Pipeline\n",
    "We use FastEstimator dataset API to load the MNIST dataset. Please check out [Tutorial 2](./t02_dataset.ipynb) for more details about the dataset API. In this case our data preprocessing involves: \n",
    "1. Expand image dimension from (28,28) to (28, 28, 1) for convenience during convolution operations.\n",
    "2. Rescale pixel values from [0, 255] to [0, 1].\n",
    "\n",
    "Please check out [Tutorial 3](./t03_operator.ipynb) for details about `Operator` and [Tutorial 4](./t04_pipeline.ipynb) for `Pipeline`."
   ]
  },
  {
   "cell_type": "code",
   "execution_count": 1,
   "metadata": {},
   "outputs": [],
   "source": [
    "import fastestimator as fe\n",
    "from fastestimator.dataset.data import mnist\n",
    "from fastestimator.op.numpyop.univariate import ExpandDims, Minmax\n",
    "\n",
    "train_data, eval_data = mnist.load_data()\n",
    "\n",
    "pipeline = fe.Pipeline(train_data=train_data,\n",
    "                       eval_data=eval_data,\n",
    "                       batch_size=32,\n",
    "                       ops=[ExpandDims(inputs=\"x\", outputs=\"x\"), Minmax(inputs=\"x\", outputs=\"x\")])"
   ]
  },
  {
   "cell_type": "markdown",
   "metadata": {},
   "source": [
    "<a id='t01Network'></a>"
   ]
  },
  {
   "cell_type": "markdown",
   "metadata": {},
   "source": [
    "### Step 2 - Network\n",
    "\n",
    "The model definition can be either from `tf.keras.Model` or `torch.nn.Module`, for more info about network definitions, check out [Tutorial 5](./t05_model.ipynb). The differentiable operations during training are listed as follows:\n",
    "\n",
    "1. Feed the preprocessed images to the network and get prediction scores.\n",
    "2. Calculate `CrossEntropy` (loss) between prediction scores and ground truth.\n",
    "3. Update the model by minimizing `CrossEntropy`.\n",
    "\n",
    "For more info about `Network` and its operators, check out [Tutorial 6](./t06_network.ipynb)."
   ]
  },
  {
   "cell_type": "code",
   "execution_count": 2,
   "metadata": {},
   "outputs": [],
   "source": [
    "from fastestimator.architecture.tensorflow import LeNet\n",
    "# from fastestimator.architecture.pytorch import LeNet  # One can also use a pytorch model\n",
    "\n",
    "from fastestimator.op.tensorop.loss import CrossEntropy\n",
    "from fastestimator.op.tensorop.model import ModelOp, UpdateOp\n",
    "\n",
    "model = fe.build(model_fn=LeNet, optimizer_fn=\"adam\")\n",
    "\n",
    "network = fe.Network(ops=[\n",
    "        ModelOp(model=model, inputs=\"x\", outputs=\"y_pred\"),\n",
    "        CrossEntropy(inputs=(\"y_pred\", \"y\"), outputs=\"ce\"),\n",
    "        UpdateOp(model=model, loss_name=\"ce\") \n",
    "    ])"
   ]
  },
  {
   "cell_type": "markdown",
   "metadata": {},
   "source": [
    "<a id='t01Estimator'></a>"
   ]
  },
  {
   "cell_type": "markdown",
   "metadata": {},
   "source": [
    "### Step 3 - Estimator\n",
    "We define the `Estimator` to connect the `Network` to the `Pipeline`, and compute accuracy as a validation metric. Please see [Tutorial 7](./t07_estimator.ipynb) for more about `Estimator` and `Traces`."
   ]
  },
  {
   "cell_type": "code",
   "execution_count": 3,
   "metadata": {},
   "outputs": [],
   "source": [
    "from fastestimator.trace.metric import Accuracy\n",
    "from fastestimator.trace.io import BestModelSaver\n",
    "import tempfile\n",
    "\n",
    "traces = [Accuracy(true_key=\"y\", pred_key=\"y_pred\"),\n",
    "          BestModelSaver(model=model, save_dir=tempfile.mkdtemp(), metric=\"accuracy\", save_best_mode=\"max\")]\n",
    "\n",
    "estimator = fe.Estimator(pipeline=pipeline,\n",
    "                         network=network,\n",
    "                         epochs=2,\n",
    "                         traces=traces)"
   ]
  },
  {
   "cell_type": "markdown",
   "metadata": {},
   "source": [
    "<a id='t01Training'></a>"
   ]
  },
  {
   "cell_type": "markdown",
   "metadata": {},
   "source": [
    "### Start Training"
   ]
  },
  {
   "cell_type": "code",
   "execution_count": 4,
   "metadata": {},
   "outputs": [
    {
     "name": "stdout",
     "output_type": "stream",
     "text": [
      "    ______           __  ______     __  _                 __            \n",
      "   / ____/___ ______/ /_/ ____/____/ /_(_)___ ___  ____ _/ /_____  _____\n",
      "  / /_  / __ `/ ___/ __/ __/ / ___/ __/ / __ `__ \\/ __ `/ __/ __ \\/ ___/\n",
      " / __/ / /_/ (__  ) /_/ /___(__  ) /_/ / / / / / / /_/ / /_/ /_/ / /    \n",
      "/_/    \\__,_/____/\\__/_____/____/\\__/_/_/ /_/ /_/\\__,_/\\__/\\____/_/     \n",
      "                                                                        \n",
      "\n",
      "FastEstimator-Start: step: 1; logging_interval: 100; num_device: 0;\n",
      "FastEstimator-Train: step: 1; ce: 2.308363;\n",
      "FastEstimator-Train: step: 100; ce: 0.32775605; steps/sec: 76.05;\n",
      "FastEstimator-Train: step: 200; ce: 0.09257892; steps/sec: 73.5;\n",
      "FastEstimator-Train: step: 300; ce: 0.34083164; steps/sec: 76.4;\n",
      "FastEstimator-Train: step: 400; ce: 0.1040692; steps/sec: 74.74;\n",
      "FastEstimator-Train: step: 500; ce: 0.021515703; steps/sec: 77.2;\n",
      "FastEstimator-Train: step: 600; ce: 0.06389343; steps/sec: 76.94;\n",
      "FastEstimator-Train: step: 700; ce: 0.081933156; steps/sec: 76.56;\n",
      "FastEstimator-Train: step: 800; ce: 0.04755495; steps/sec: 75.82;\n",
      "FastEstimator-Train: step: 900; ce: 0.09036083; steps/sec: 76.68;\n",
      "FastEstimator-Train: step: 1000; ce: 0.076977566; steps/sec: 73.93;\n",
      "FastEstimator-Train: step: 1100; ce: 0.006916199; steps/sec: 74.92;\n",
      "FastEstimator-Train: step: 1200; ce: 0.116034895; steps/sec: 72.66;\n",
      "FastEstimator-Train: step: 1300; ce: 0.0036065953; steps/sec: 73.45;\n",
      "FastEstimator-Train: step: 1400; ce: 0.1516164; steps/sec: 73.41;\n",
      "FastEstimator-Train: step: 1500; ce: 0.066313066; steps/sec: 73.17;\n",
      "FastEstimator-Train: step: 1600; ce: 0.1330988; steps/sec: 71.1;\n",
      "FastEstimator-Train: step: 1700; ce: 0.08547261; steps/sec: 70.95;\n",
      "FastEstimator-Train: step: 1800; ce: 0.024575546; steps/sec: 72.46;\n",
      "FastEstimator-Train: step: 1875; epoch: 1; epoch_time: 26.76 sec;\n",
      "Eval Progress: 1/312;\n",
      "Eval Progress: 104/312; steps/sec: 222.3;\n",
      "Eval Progress: 208/312; steps/sec: 213.34;\n",
      "Eval Progress: 312/312; steps/sec: 210.13;\n",
      "FastEstimator-BestModelSaver: Saved model to /var/folders/3r/h9kh47050gv6rbt_pgf8cl540000gn/T/tmpz8b4p4k4/model_best_accuracy.h5\n",
      "FastEstimator-Eval: step: 1875; epoch: 1; accuracy: 0.9874; ce: 0.042314235; max_accuracy: 0.9874; since_best_accuracy: 0;\n",
      "FastEstimator-Train: step: 1900; ce: 0.018547835; steps/sec: 51.8;\n",
      "FastEstimator-Train: step: 2000; ce: 0.02083261; steps/sec: 72.46;\n",
      "FastEstimator-Train: step: 2100; ce: 0.0013426461; steps/sec: 72.69;\n",
      "FastEstimator-Train: step: 2200; ce: 0.03557183; steps/sec: 72.89;\n",
      "FastEstimator-Train: step: 2300; ce: 0.016057294; steps/sec: 71.61;\n",
      "FastEstimator-Train: step: 2400; ce: 0.019565197; steps/sec: 72.94;\n",
      "FastEstimator-Train: step: 2500; ce: 0.008084664; steps/sec: 70.73;\n",
      "FastEstimator-Train: step: 2600; ce: 0.047113482; steps/sec: 71.11;\n",
      "FastEstimator-Train: step: 2700; ce: 0.01939332; steps/sec: 73.15;\n",
      "FastEstimator-Train: step: 2800; ce: 0.0058479137; steps/sec: 70.8;\n",
      "FastEstimator-Train: step: 2900; ce: 0.0133756; steps/sec: 70.4;\n",
      "FastEstimator-Train: step: 3000; ce: 0.00542433; steps/sec: 66.53;\n",
      "FastEstimator-Train: step: 3100; ce: 0.0123183625; steps/sec: 66.0;\n",
      "FastEstimator-Train: step: 3200; ce: 0.0035992165; steps/sec: 67.31;\n",
      "FastEstimator-Train: step: 3300; ce: 0.029546442; steps/sec: 68.5;\n",
      "FastEstimator-Train: step: 3400; ce: 0.07383997; steps/sec: 71.68;\n",
      "FastEstimator-Train: step: 3500; ce: 0.0014300543; steps/sec: 71.02;\n",
      "FastEstimator-Train: step: 3600; ce: 0.00060256035; steps/sec: 69.73;\n",
      "FastEstimator-Train: step: 3700; ce: 0.034662727; steps/sec: 68.65;\n",
      "FastEstimator-Train: step: 3750; epoch: 2; epoch_time: 27.18 sec;\n",
      "Eval Progress: 1/312;\n",
      "Eval Progress: 104/312; steps/sec: 203.92;\n",
      "Eval Progress: 208/312; steps/sec: 202.22;\n",
      "Eval Progress: 312/312; steps/sec: 208.36;\n",
      "FastEstimator-BestModelSaver: Saved model to /var/folders/3r/h9kh47050gv6rbt_pgf8cl540000gn/T/tmpz8b4p4k4/model_best_accuracy.h5\n",
      "FastEstimator-Eval: step: 3750; epoch: 2; accuracy: 0.9896; ce: 0.03458583; max_accuracy: 0.9896; since_best_accuracy: 0;\n",
      "FastEstimator-Finish: step: 3750; model_lr: 0.001; total_time: 57.84 sec;\n"
     ]
    }
   ],
   "source": [
    "estimator.fit()"
   ]
  },
  {
   "cell_type": "markdown",
   "metadata": {},
   "source": [
    "<a id='t01Inferencing'></a>"
   ]
  },
  {
   "cell_type": "markdown",
   "metadata": {},
   "source": [
    "### Inferencing\n",
    "After training, we can do inferencing on new data with `Pipeline.transform` and `Netowork.transform`. Please checkout [Tutorial 8](./t08_mode.ipynb) for more details. \\"
   ]
  },
  {
   "cell_type": "code",
   "execution_count": 5,
   "metadata": {},
   "outputs": [
    {
     "name": "stdout",
     "output_type": "stream",
     "text": [
      "Ground truth class is 7\n",
      "Predicted class is 7\n"
     ]
    },
    {
     "data": {
      "image/png": "[encoded data removed]",
      "text/plain": [
       "<IPython.core.display.Image object>"
      ]
     },
     "metadata": {},
     "output_type": "display_data"
    }
   ],
   "source": [
    "import numpy as np\n",
    "\n",
    "data = eval_data[0]\n",
    "data = pipeline.transform(data, mode=\"eval\")\n",
    "data = network.transform(data, mode=\"eval\")\n",
    "\n",
    "print(\"Ground truth class is {}\".format(data[\"y\"][0]))\n",
    "print(\"Predicted class is {}\".format(np.argmax(data[\"y_pred\"])))\n",
    "img = fe.util.BatchDisplay(title=\"x\", image=data[\"x\"])\n",
    "img.show()"
   ]
  },
  {
   "cell_type": "markdown",
   "metadata": {},
   "source": [
    "<a id='t01Apphub'></a>"
   ]
  },
  {
   "cell_type": "markdown",
   "metadata": {},
   "source": [
    "## Apphub Examples\n",
    "You can find some practical examples of the concepts described here in the following FastEstimator Apphubs:\n",
    "\n",
    "* [MNIST](../../apphub/image_classification/mnist/mnist.ipynb)\n",
    "* [DNN](../../apphub/tabular/dnn/dnn.ipynb)"
   ]
  }
 ],
 "metadata": {
  "kernelspec": {
   "display_name": "Python 3 (ipykernel)",
   "language": "python",
   "name": "python3"
  },
  "language_info": {
   "codemirror_mode": {
    "name": "ipython",
    "version": 3
   },
   "file_extension": ".py",
   "mimetype": "text/x-python",
   "name": "python",
   "nbconvert_exporter": "python",
   "pygments_lexer": "ipython3",
   "version": "3.8.12"
  }
 },
 "nbformat": 4,
 "nbformat_minor": 4
}
