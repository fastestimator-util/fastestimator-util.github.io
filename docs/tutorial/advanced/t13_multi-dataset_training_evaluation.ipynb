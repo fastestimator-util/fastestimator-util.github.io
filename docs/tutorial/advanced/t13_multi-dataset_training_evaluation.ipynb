{
 "cells": [
  {
   "cell_type": "markdown",
   "metadata": {},
   "source": [
    "# Advanced Tutorial 13: Multi-Dataset Training and Evaluation\n",
    "\n",
    "## Overview\n",
    "In this tutorial, we will discuss the following topics:\n",
    "\n",
    "* [Multi-Dataset Concept and API](#ta13multidsapi)\n",
    "    * [Adding multiple datasets to a pipeline](#ta13multidspipe)\n",
    "    * [Dataset-specific Ops](#ta13dsspecificops)\n",
    "    * [Dataset-specific Traces](#ta13dsspecifictrace)\n",
    "    * [Specifying multiple datasets in Ops or Traces](#ta13multidsoptrace)\n",
    "* [Multi-dataset Example](#ta13example)"
   ]
  },
  {
   "cell_type": "markdown",
   "metadata": {},
   "source": [
    "<a id='ta13multidsapi'></a>"
   ]
  },
  {
   "cell_type": "markdown",
   "metadata": {},
   "source": [
    "## Multi-Dataset Concept and API\n",
    "When you are training a deep learning model, you may sometimes want to train/evaluate on multiple datasets. For example, we might be interested in knowing evaluation metrics separately for two datasets. In this section we show how to do that conveniently in FastEstimator. "
   ]
  },
  {
   "cell_type": "markdown",
   "metadata": {},
   "source": [
    "<a id='ta13multidspipe'></a>"
   ]
  },
  {
   "cell_type": "markdown",
   "metadata": {},
   "source": [
    "### Adding multiple datasets to a Pipeline\n",
    "If you have multiple datasets, then in `Pipeline` you can simply provide a dictionary to the `train_data`, `eval_data`, and/or `test_data` arguments, with keys being the names of the datasets and values being the data instances.\n",
    "\n",
    "For example:\n",
    "```python\n",
    "pipeline = fe.Pipeline(eval_data={\"ds1\": eval_data1, \"ds2\": eval_data2}, ...)\n",
    "```\n",
    "\n",
    "In the above example, `ds1` and `ds2` are the names of those datasets. These can be any other arbitrary names."
   ]
  },
  {
   "cell_type": "markdown",
   "metadata": {},
   "source": [
    "<a id='ta13dsspecificops'></a>"
   ]
  },
  {
   "cell_type": "markdown",
   "metadata": {},
   "source": [
    "### Dataset-specific Ops\n",
    "Sometimes different datasets might require specific NumpyOps or TensorOps. For example, when we train a gray-scale model and have both gray-scale and colored evaluation sets, we only need to apply the gray-scale conversion to the colored dataset.\n",
    "\n",
    "In FastEstimator, To indicate that an Op is only applied for a specific dataset (say `ds1`), one only needs to do:\n",
    "```python\n",
    "Op(..., ds_id=\"ds1\") # run the op on ds1\n",
    "```\n",
    "\n",
    "`ds_id` works similarly to the `mode` argument in Ops. The operator will only execute if `ds_id` matches the specific dataset. If `ds_id` is None (default), then it will execute on all datasets.\n",
    "\n",
    "The `ds_id` argument works in conjunction with `mode`. For example, `Op(mode=\"train\", ds_id=\"myds1\")` would only run during training for dataset named \"myds1\"."
   ]
  },
  {
   "cell_type": "markdown",
   "metadata": {},
   "source": [
    "<a id='ta13dsspecifictrace'></a>"
   ]
  },
  {
   "cell_type": "markdown",
   "metadata": {},
   "source": [
    "### Dataset-specific Traces\n",
    "\n",
    "To only execute a Trace for a specific dataset, simply pass:\n",
    "```python\n",
    "Trace(..., ds_id=\"ds1\") # run the trace on ds1\n",
    "```\n",
    "\n",
    "When using multiple datasets, the built-in FastEstimator metric traces will automatically report their outputs for each dataset individually, as well as the overall metric aggregated over all datasets. We will demonstrate this behavior in detail in the example section."
   ]
  },
  {
   "cell_type": "markdown",
   "metadata": {},
   "source": [
    "<a id='ta13multidsoptrace'></a>"
   ]
  },
  {
   "cell_type": "markdown",
   "metadata": {},
   "source": [
    "### Specifying multiple datasets in Ops or Traces\n",
    "When an Op or Trace needs to execute on multiple datasets, simply provide a list, tuple, or set of dataset names to the `ds_id` argument. \n",
    "\n",
    "For example:\n",
    "```python\n",
    "Op(..., ds_id=[\"ds1\", \"ds2\"])  # run on both ds1 and ds2\n",
    "```\n",
    "\n",
    "When there are many datasets such that listing every name becomes undesirable, you can use `!` in front of the dataset name to indicate `all except`. \n",
    "\n",
    "For example:\n",
    "```python\n",
    "Op(..., ds_id=[\"!ds1\", \"!ds2\"])  # run on all datasets except ds1 and ds2\n",
    "```\n"
   ]
  },
  {
   "cell_type": "markdown",
   "metadata": {},
   "source": [
    "<a id='ta13example'></a>"
   ]
  },
  {
   "cell_type": "markdown",
   "metadata": {},
   "source": [
    "## Multi-dataset Example\n",
    "\n",
    "In this example, we will train on the MNIST dataset but evaluate on both the MNIST test set and the SVHN-Cropped test set. Here are the dataset-specific items we will do in this example:\n",
    "* Resize images in the SVHN-Cropped dataset from 32x32 to 28x28 to match the MNIST data\n",
    "* Convert the SVHN-Cropped dataseet to gray-scale\n",
    "* Measure dataset-specific Accuracy as well as combined Accuracy\n",
    "* Customize an AUC metric that works on a per-dataset level\n",
    "* Save the best model based on evaluation AUC of a specific dataset"
   ]
  },
  {
   "cell_type": "markdown",
   "metadata": {},
   "source": [
    "### Prepare Dataset"
   ]
  },
  {
   "cell_type": "code",
   "execution_count": 1,
   "metadata": {},
   "outputs": [
    {
     "name": "stdout",
     "output_type": "stream",
     "text": [
      "mnist evaluation dataset summary:\n",
      "{\"num_instances\": 10000, \"keys\": {\"x\": {\"shape\": [28, 28], \"dtype\": \"uint8\"}, \"y\": {\"num_unique_values\": 10, \"shape\": [], \"dtype\": \"uint8\"}}}\n",
      "svhn_cropped evaluation dataset summary:\n",
      "{\"num_instances\": 26032, \"keys\": {\"x\": {\"shape\": [32, 32, 3], \"dtype\": \"uint8\"}, \"y\": {\"shape\": [1], \"dtype\": \"uint8\"}}}\n"
     ]
    }
   ],
   "source": [
    "from fastestimator.dataset.data import mnist, svhn_cropped\n",
    "\n",
    "train_mnist, eval_mnist = mnist.load_data()\n",
    "_, eval_svhn = svhn_cropped.load_data()\n",
    "print(\"mnist evaluation dataset summary:\")\n",
    "print(eval_mnist.summary())\n",
    "\n",
    "print(\"svhn_cropped evaluation dataset summary:\")\n",
    "print(eval_svhn.summary())"
   ]
  },
  {
   "cell_type": "markdown",
   "metadata": {},
   "source": [
    "### Preprocessing"
   ]
  },
  {
   "cell_type": "code",
   "execution_count": 2,
   "metadata": {},
   "outputs": [],
   "source": [
    "import fastestimator as fe\n",
    "from fastestimator.op.numpyop.univariate import ExpandDims, Minmax, ToGray\n",
    "from fastestimator.op.numpyop.multivariate import Resize\n",
    "from fastestimator.op.numpyop import LambdaOp\n",
    "\n",
    "pipeline = fe.Pipeline(train_data={\"mnist\": train_mnist}, \n",
    "                       eval_data={\"mnist\": eval_mnist, \"svhn\": eval_svhn},\n",
    "                       batch_size=32,\n",
    "                       ops= [\n",
    "                             Resize(image_in=\"x\", image_out=\"x\", height=28, width=28, ds_id=\"svhn\"),\n",
    "                             ToGray(inputs=\"x\", outputs=\"x\", ds_id=\"svhn\"), # after ToGray, the output is still 3 channel\n",
    "                             LambdaOp(fn=lambda x: x[..., 0:1], inputs=\"x\", outputs=\"x\", ds_id=\"svhn\"), # select the first channel for svhn\n",
    "                             ExpandDims(inputs=\"x\", outputs=\"x\", ds_id=\"mnist\"), # (28, 28) -> (28, 28, 1) for mnist\n",
    "                             LambdaOp(fn=fe.backend.squeeze, inputs=\"y\", outputs=\"y\", ds_id=\"svhn\"), # Match the mnist y shape\n",
    "                             Minmax(inputs=\"x\", outputs=\"x\")])"
   ]
  },
  {
   "cell_type": "markdown",
   "metadata": {},
   "source": [
    "### Visualize MNIST preprocessing results"
   ]
  },
  {
   "cell_type": "code",
   "execution_count": 3,
   "metadata": {},
   "outputs": [
    {
     "data": {
      "image/png": "[encoded data removed]",
      "text/plain": [
       "<IPython.core.display.Image object>"
      ]
     },
     "metadata": {},
     "output_type": "display_data"
    }
   ],
   "source": [
    "from fastestimator.util import BatchDisplay, GridDisplay\n",
    "\n",
    "mnist_eval_data = pipeline.get_results(mode=\"eval\", ds_id=\"mnist\")\n",
    "fig = GridDisplay([BatchDisplay(image=mnist_eval_data[\"x\"][:2], title=\"image\"),\n",
    "                   BatchDisplay(text=mnist_eval_data[\"y\"][:2], title=\"label\")\n",
    "                  ])\n",
    "fig.show()"
   ]
  },
  {
   "cell_type": "markdown",
   "metadata": {},
   "source": [
    "### Visualize SVHN_cropped preprocessing results"
   ]
  },
  {
   "cell_type": "code",
   "execution_count": 4,
   "metadata": {},
   "outputs": [
    {
     "data": {
      "image/png": "[encoded data removed]",
      "text/plain": [
       "<IPython.core.display.Image object>"
      ]
     },
     "metadata": {},
     "output_type": "display_data"
    }
   ],
   "source": [
    "svhn_eval_data = pipeline.get_results(mode=\"eval\", ds_id=\"svhn\")\n",
    "fig = GridDisplay([BatchDisplay(image=svhn_eval_data[\"x\"][:2], title=\"image\"),\n",
    "                   BatchDisplay(text=svhn_eval_data[\"y\"][:2], title=\"label\")\n",
    "                  ])\n",
    "fig.show()"
   ]
  },
  {
   "cell_type": "markdown",
   "metadata": {},
   "source": [
    "### Define Model and Networks"
   ]
  },
  {
   "cell_type": "code",
   "execution_count": 5,
   "metadata": {},
   "outputs": [
    {
     "name": "stderr",
     "output_type": "stream",
     "text": [
      "2022-06-01 12:09:21.725055: I tensorflow/core/platform/cpu_feature_guard.cc:193] This TensorFlow binary is optimized with oneAPI Deep Neural Network Library (oneDNN) to use the following CPU instructions in performance-critical operations:  AVX2 FMA\n",
      "To enable them in other operations, rebuild TensorFlow with the appropriate compiler flags.\n"
     ]
    }
   ],
   "source": [
    "from fastestimator.architecture.tensorflow import LeNet\n",
    "from fastestimator.op.tensorop.loss import CrossEntropy\n",
    "from fastestimator.op.tensorop.model import ModelOp, UpdateOp\n",
    "\n",
    "model = fe.build(model_fn=LeNet, optimizer_fn=\"adam\")\n",
    "network = fe.Network(ops=[\n",
    "        ModelOp(model=model, inputs=\"x\", outputs=\"y_pred\"),\n",
    "        CrossEntropy(inputs=(\"y_pred\", \"y\"), outputs=\"ce\"),\n",
    "        UpdateOp(model=model, loss_name=\"ce\")\n",
    "    ])"
   ]
  },
  {
   "cell_type": "markdown",
   "metadata": {},
   "source": [
    "### Start Training with Only Accuracy Trace"
   ]
  },
  {
   "cell_type": "code",
   "execution_count": 6,
   "metadata": {},
   "outputs": [
    {
     "name": "stdout",
     "output_type": "stream",
     "text": [
      "    ______           __  ______     __  _                 __            \n",
      "   / ____/___ ______/ /_/ ____/____/ /_(_)___ ___  ____ _/ /_____  _____\n",
      "  / /_  / __ `/ ___/ __/ __/ / ___/ __/ / __ `__ \\/ __ `/ __/ __ \\/ ___/\n",
      " / __/ / /_/ (__  ) /_/ /___(__  ) /_/ / / / / / / /_/ / /_/ /_/ / /    \n",
      "/_/    \\__,_/____/\\__/_____/____/\\__/_/_/ /_/ /_/\\__,_/\\__/\\____/_/     \n",
      "                                                                        \n",
      "\n",
      "FastEstimator-Warn: No ModelSaver Trace detected. Models will not be saved.\n",
      "FastEstimator-Start: step: 1; logging_interval: 100; num_device: 0;\n",
      "FastEstimator-Train: step: 1; ce|mnist: 2.297002;\n",
      "FastEstimator-Train: step: 100; ce|mnist: 0.62006235; steps/sec|mnist: 68.14;\n",
      "FastEstimator-Train: step: 200; ce|mnist: 0.100964725; steps/sec|mnist: 72.17;\n",
      "FastEstimator-Train: step: 200; epoch: 1; epoch_time: 4.28 sec;\n",
      "Eval Progress: 1/312;\n",
      "Eval Progress: 104/312; steps/sec: 195.59;\n",
      "Eval Progress: 208/312; steps/sec: 194.24;\n",
      "Eval Progress: 312/312; steps/sec: 206.18;\n",
      "FastEstimator-Eval: step: 200; epoch: 1; accuracy: 0.38574045293072823; accuracy|mnist: 0.9399; accuracy|svhn: 0.1728641671788568; ce: 2.479175; ce|mnist: 0.20342466; ce|svhn: 3.3542488;\n",
      "FastEstimator-Train: step: 300; ce|mnist: 0.14703166; steps/sec|mnist: 54.67;\n",
      "FastEstimator-Train: step: 400; ce|mnist: 0.03327415; steps/sec|mnist: 71.45;\n",
      "FastEstimator-Train: step: 400; epoch: 2; epoch_time: 3.24 sec;\n",
      "Eval Progress: 1/312;\n",
      "Eval Progress: 104/312; steps/sec: 208.84;\n",
      "Eval Progress: 208/312; steps/sec: 208.1;\n",
      "Eval Progress: 312/312; steps/sec: 211.65;\n",
      "FastEstimator-Eval: step: 400; epoch: 2; accuracy: 0.4563721136767318; accuracy|mnist: 0.9722; accuracy|svhn: 0.25822065150583895; ce: 1.9564626; ce|mnist: 0.09087765; ce|svhn: 2.6738186;\n",
      "FastEstimator-Train: step: 500; ce|mnist: 0.26206714; steps/sec|mnist: 52.52;\n",
      "FastEstimator-Train: step: 600; ce|mnist: 0.20257875; steps/sec|mnist: 69.8;\n",
      "FastEstimator-Train: step: 600; epoch: 3; epoch_time: 3.33 sec;\n",
      "Eval Progress: 1/312;\n",
      "Eval Progress: 104/312; steps/sec: 209.52;\n",
      "Eval Progress: 208/312; steps/sec: 216.23;\n",
      "Eval Progress: 312/312; steps/sec: 209.66;\n",
      "FastEstimator-Eval: step: 600; epoch: 3; accuracy: 0.44879551509769094; accuracy|mnist: 0.9719; accuracy|svhn: 0.24784880147510757; ce: 1.7997541; ce|mnist: 0.09163932; ce|svhn: 2.4565597;\n",
      "FastEstimator-Train: step: 700; ce|mnist: 0.025095956; steps/sec|mnist: 52.47;\n",
      "FastEstimator-Train: step: 800; ce|mnist: 0.12707141; steps/sec|mnist: 70.46;\n",
      "FastEstimator-Train: step: 800; epoch: 4; epoch_time: 3.32 sec;\n",
      "Eval Progress: 1/312;\n",
      "Eval Progress: 104/312; steps/sec: 207.01;\n",
      "Eval Progress: 208/312; steps/sec: 207.07;\n",
      "Eval Progress: 312/312; steps/sec: 209.36;\n",
      "FastEstimator-Eval: step: 800; epoch: 4; accuracy: 0.4620892539964476; accuracy|mnist: 0.9741; accuracy|svhn: 0.2654041180086048; ce: 1.7328861; ce|mnist: 0.083745226; ce|svhn: 2.3670154;\n",
      "FastEstimator-Finish: step: 800; model_lr: 0.001; total_time: 41.48 sec;\n"
     ]
    }
   ],
   "source": [
    "from fastestimator.trace.io import BestModelSaver\n",
    "from fastestimator.trace.metric import Accuracy\n",
    "\n",
    "\n",
    "estimator = fe.Estimator(pipeline=pipeline,\n",
    "                         network=network,\n",
    "                         epochs=4,\n",
    "                         traces=Accuracy(true_key=\"y\", pred_key=\"y_pred\"),\n",
    "                         train_steps_per_epoch=200)\n",
    "\n",
    "estimator.fit()"
   ]
  },
  {
   "cell_type": "markdown",
   "metadata": {},
   "source": [
    "As you can see in the training log, the `Accuracy` Trace created 3 keys: `accuracy|mnist`, `accuracy|svhn`, and `accuracy`. The `accuracy|mnist` and `accuracy|svhn` are measured on individual datasets, and `accuracy` is measured on the overall combined evaluation set."
   ]
  },
  {
   "cell_type": "markdown",
   "metadata": {},
   "source": [
    "### Customize an AUC metric that works for every dataset, then save model based on AUC of a specific dataset\n",
    "\n",
    "Since this is a 10-class classification task, to simplify AUC calculation, we will count any label < 5 as 0 and the rest of labels as 1.  When a trace is initializing the data during `on_epoch_begin` and outputting the data during `on_epoch_end`, we only need a `per_ds` decorator to enable multi-dataset support as shown below."
   ]
  },
  {
   "cell_type": "code",
   "execution_count": 7,
   "metadata": {},
   "outputs": [],
   "source": [
    "from fastestimator.trace.meta import per_ds\n",
    "from sklearn import metrics\n",
    "import numpy as np\n",
    "\n",
    "\n",
    "@per_ds  # Without this annotation the trace would only compute the aggregate metric\n",
    "class AUC(fe.trace.Trace):\n",
    "    def on_epoch_begin(self, data):\n",
    "        self.y_true = []\n",
    "        self.y_pred = []\n",
    "\n",
    "    def on_batch_end(self, data):\n",
    "        y_pred, y_true = np.argmax(data[\"y_pred\"].numpy(), axis=-1), data[\"y\"].numpy()\n",
    "        y_pred, y_true = np.where(y_pred < 5, 0, 1), np.where(y_true < 5, 0, 1)\n",
    "        self.y_pred.extend(y_pred.ravel())\n",
    "        self.y_true.extend(y_true.ravel())\n",
    "\n",
    "    def on_epoch_end(self, data):\n",
    "        fpr, tpr, _ = metrics.roc_curve(self.y_true, self.y_pred)\n",
    "        auc = metrics.auc(fpr, tpr)\n",
    "        data.write_with_log(\"auc\", auc)"
   ]
  },
  {
   "cell_type": "code",
   "execution_count": 8,
   "metadata": {},
   "outputs": [
    {
     "name": "stdout",
     "output_type": "stream",
     "text": [
      "    ______           __  ______     __  _                 __            \n",
      "   / ____/___ ______/ /_/ ____/____/ /_(_)___ ___  ____ _/ /_____  _____\n",
      "  / /_  / __ `/ ___/ __/ __/ / ___/ __/ / __ `__ \\/ __ `/ __/ __ \\/ ___/\n",
      " / __/ / /_/ (__  ) /_/ /___(__  ) /_/ / / / / / / /_/ / /_/ /_/ / /    \n",
      "/_/    \\__,_/____/\\__/_____/____/\\__/_/_/ /_/ /_/\\__,_/\\__/\\____/_/     \n",
      "                                                                        \n",
      "\n",
      "FastEstimator-Start: step: 1; logging_interval: 100; num_device: 0;\n",
      "FastEstimator-Train: step: 1; ce|mnist: 0.062433735;\n",
      "FastEstimator-Train: step: 100; ce|mnist: 0.2802775; steps/sec|mnist: 63.92;\n",
      "FastEstimator-Train: step: 200; ce|mnist: 0.23590814; steps/sec|mnist: 64.12;\n",
      "FastEstimator-Train: step: 200; epoch: 1; epoch_time: 3.7 sec;\n",
      "Eval Progress: 1/312;\n",
      "Eval Progress: 104/312; steps/sec: 180.97;\n",
      "Eval Progress: 208/312; steps/sec: 193.39;\n",
      "Eval Progress: 312/312; steps/sec: 179.7;\n",
      "FastEstimator-BestModelSaver: Saved model to /var/folders/3r/h9kh47050gv6rbt_pgf8cl540000gn/T/tmp95pnqff2/model_best_auc|svhn.h5\n",
      "FastEstimator-Eval: step: 200; epoch: 1; accuracy: 0.4888154973357016; accuracy|mnist: 0.9837; accuracy|svhn: 0.29870928088506454; auc: 0.7571002319848853; auc|mnist: 0.9892388633631616; auc|svhn: 0.6624670574144985; ce: 1.6440561; ce|mnist: 0.055526573; ce|svhn: 2.254879; max_auc|svhn: 0.6624670574144985; since_best_auc|svhn: 0;\n",
      "FastEstimator-Train: step: 300; ce|mnist: 0.037645765; steps/sec|mnist: 44.2;\n",
      "FastEstimator-Train: step: 400; ce|mnist: 0.05922611; steps/sec|mnist: 63.98;\n",
      "FastEstimator-Train: step: 400; epoch: 2; epoch_time: 3.79 sec;\n",
      "Eval Progress: 1/312;\n",
      "Eval Progress: 104/312; steps/sec: 150.98;\n",
      "Eval Progress: 208/312; steps/sec: 166.17;\n",
      "Eval Progress: 312/312; steps/sec: 187.0;\n",
      "FastEstimator-Eval: step: 400; epoch: 2; accuracy: 0.5021369893428064; accuracy|mnist: 0.9801; accuracy|svhn: 0.31853103872157346; auc: 0.7618485829159409; auc|mnist: 0.9859111115434452; auc|svhn: 0.6552186362897082; ce: 1.6789757; ce|mnist: 0.061825372; ce|svhn: 2.3008037; max_auc|svhn: 0.6624670574144985; since_best_auc|svhn: 1;\n",
      "FastEstimator-Train: step: 500; ce|mnist: 0.037580382; steps/sec|mnist: 45.06;\n",
      "FastEstimator-Train: step: 600; ce|mnist: 0.042693608; steps/sec|mnist: 58.93;\n",
      "FastEstimator-Train: step: 600; epoch: 3; epoch_time: 3.93 sec;\n",
      "Eval Progress: 1/312;\n",
      "Eval Progress: 104/312; steps/sec: 172.32;\n",
      "Eval Progress: 208/312; steps/sec: 185.12;\n",
      "Eval Progress: 312/312; steps/sec: 172.22;\n",
      "FastEstimator-BestModelSaver: Saved model to /var/folders/3r/h9kh47050gv6rbt_pgf8cl540000gn/T/tmp95pnqff2/model_best_auc|svhn.h5\n",
      "FastEstimator-Eval: step: 600; epoch: 3; accuracy: 0.5132937388987566; accuracy|mnist: 0.98; accuracy|svhn: 0.3340119852489244; auc: 0.7671458888899824; auc|mnist: 0.9866311280009643; auc|svhn: 0.6683979301971492; ce: 1.530564; ce|mnist: 0.06489386; ce|svhn: 2.0941448; max_auc|svhn: 0.6683979301971492; since_best_auc|svhn: 0;\n",
      "FastEstimator-Train: step: 700; ce|mnist: 0.03424043; steps/sec|mnist: 43.93;\n",
      "FastEstimator-Train: step: 800; ce|mnist: 0.12813392; steps/sec|mnist: 63.89;\n",
      "FastEstimator-Train: step: 800; epoch: 4; epoch_time: 3.81 sec;\n",
      "Eval Progress: 1/312;\n",
      "Eval Progress: 104/312; steps/sec: 168.38;\n",
      "Eval Progress: 208/312; steps/sec: 172.82;\n",
      "Eval Progress: 312/312; steps/sec: 151.1;\n",
      "FastEstimator-Eval: step: 800; epoch: 4; accuracy: 0.48159968916518653; accuracy|mnist: 0.9787; accuracy|svhn: 0.2906422864167179; auc: 0.7624943008308487; auc|mnist: 0.9883770373095143; auc|svhn: 0.6621539867415974; ce: 1.7956299; ce|mnist: 0.06795667; ce|svhn: 2.4599562; max_auc|svhn: 0.6683979301971492; since_best_auc|svhn: 1;\n",
      "FastEstimator-Finish: step: 800; model_lr: 0.001; total_time: 47.55 sec;\n"
     ]
    }
   ],
   "source": [
    "import tempfile\n",
    "from fastestimator.trace.io import BestModelSaver\n",
    "\n",
    "estimator = fe.Estimator(pipeline=pipeline,\n",
    "                         network=network,\n",
    "                         epochs=4,\n",
    "                         traces=[Accuracy(true_key=\"y\", pred_key=\"y_pred\"), \n",
    "                                 AUC(inputs=(\"y\", \"y_pred\"), outputs=\"auc\", mode=\"eval\"),\n",
    "                                 BestModelSaver(model=model, save_dir=tempfile.mkdtemp(), metric=\"auc|svhn\", save_best_mode=\"max\")],\n",
    "                         train_steps_per_epoch=200)\n",
    "\n",
    "estimator.fit()"
   ]
  },
  {
   "cell_type": "markdown",
   "metadata": {},
   "source": [
    "Now during evaluation we can see `auc|svhn`, `auc|mnist`, and `auc` printing in the log. Moreover, our model saving is based on the best evaluation auc on the svhn dataset."
   ]
  }
 ],
 "metadata": {
  "kernelspec": {
   "display_name": "Python 3 (ipykernel)",
   "language": "python",
   "name": "python3"
  },
  "language_info": {
   "codemirror_mode": {
    "name": "ipython",
    "version": 3
   },
   "file_extension": ".py",
   "mimetype": "text/x-python",
   "name": "python",
   "nbconvert_exporter": "python",
   "pygments_lexer": "ipython3",
   "version": "3.8.12"
  }
 },
 "nbformat": 4,
 "nbformat_minor": 4
}
