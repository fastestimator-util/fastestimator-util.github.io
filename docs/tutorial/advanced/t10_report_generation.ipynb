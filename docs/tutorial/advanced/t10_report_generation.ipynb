{
 "cells": [
  {
   "cell_type": "markdown",
   "metadata": {},
   "source": [
    "# Advanced Tutorial 10: Automated Report Generation\n",
    "\n",
    "## Overview\n",
    "In this tutorial, we will discuss:\n",
    "* [Overview and Dependencies](#ta10od)\n",
    "* [Traceability](#ta10t)\n",
    "* [Test Report](#ta10tr)"
   ]
  },
  {
   "cell_type": "markdown",
   "metadata": {},
   "source": [
    "## Preliminary Setup\n",
    "\n",
    "Let's get some imports and object construction out of the way:"
   ]
  },
  {
   "cell_type": "code",
   "execution_count": 1,
   "metadata": {},
   "outputs": [],
   "source": [
    "import tempfile\n",
    "import os\n",
    "import numpy as np\n",
    "import fastestimator as fe\n",
    "from fastestimator.architecture.tensorflow import LeNet\n",
    "from fastestimator.dataset.data import mnist\n",
    "from fastestimator.op.numpyop.univariate import ExpandDims, Minmax\n",
    "from fastestimator.op.tensorop.loss import CrossEntropy\n",
    "from fastestimator.op.tensorop.model import ModelOp, UpdateOp\n",
    "from fastestimator.schedule import cosine_decay\n",
    "from fastestimator.trace.adapt import LRScheduler\n",
    "from fastestimator.trace.io import BestModelSaver\n",
    "from fastestimator.trace.metric import Accuracy\n",
    "\n",
    "root_output_dir = tempfile.mkdtemp()\n",
    "\n",
    "def get_estimator(extra_traces):\n",
    "    # step 1\n",
    "    train_data, eval_data = mnist.load_data()\n",
    "    test_data = eval_data.split(100)\n",
    "    test_data['id'] = [i for i in range(len(test_data))]  # Assign some data ids for the test report to look at\n",
    "    pipeline = fe.Pipeline(train_data=train_data,\n",
    "                           eval_data=eval_data,\n",
    "                           test_data=test_data,\n",
    "                           batch_size=32,\n",
    "                           ops=[ExpandDims(inputs=\"x\", outputs=\"x\"), Minmax(inputs=\"x\", outputs=\"x\")])\n",
    "\n",
    "    # step 2\n",
    "    model = fe.build(model_fn=LeNet, optimizer_fn=\"adam\")\n",
    "    network = fe.Network(ops=[\n",
    "        ModelOp(model=model, inputs=\"x\", outputs=\"y_pred\"),\n",
    "        CrossEntropy(inputs=(\"y_pred\", \"y\"), outputs=\"ce\"),\n",
    "        UpdateOp(model=model, loss_name=\"ce\")\n",
    "    ])\n",
    "    # step 3\n",
    "    traces = [\n",
    "        Accuracy(true_key=\"y\", pred_key=\"y_pred\"),\n",
    "        BestModelSaver(model=model, save_dir=root_output_dir, metric=\"accuracy\", save_best_mode=\"max\"),\n",
    "        LRScheduler(model=model, lr_fn=lambda step: cosine_decay(step, cycle_length=3750, init_lr=1e-3))\n",
    "    ]\n",
    "    traces.extend(extra_traces)\n",
    "    estimator = fe.Estimator(pipeline=pipeline,\n",
    "                             network=network,\n",
    "                             epochs=2,\n",
    "                             traces=traces,\n",
    "                             train_steps_per_epoch=100,\n",
    "                             eval_steps_per_epoch=100,\n",
    "                             log_steps=10)\n",
    "    return estimator"
   ]
  },
  {
   "cell_type": "markdown",
   "metadata": {},
   "source": [
    "<a id='ta10od'></a>"
   ]
  },
  {
   "cell_type": "markdown",
   "metadata": {},
   "source": [
    "## Overview and Dependencies\n",
    "FastEstimator provides Traces which allow you to automatically generate traceability documents and test reports. These reports are written in the LaTeX file format, and then automatically compiled into PDF documents if you have LaTeX installed on your machine. If you don't have LaTeX installed on your training machine, you can still generate the report files and then move them to a different computer in order to compile them manually. Generating traceability documents also requires GraphViz which, unlike LaTeX, must be installed in order for training to proceed. \n",
    "\n",
    "```\n",
    "Installing Dependencies:\n",
    "    On Linux: \n",
    "        apt-get install -y graphviz texlive-latex-base texlive-latex-extra\n",
    "    On SageMaker:\n",
    "        unset PYTHONPATH\n",
    "        export DEBIAN_FRONTEND=noninteractive\n",
    "        apt-get install -y graphviz texlive-latex-base texlive-latex-extra\n",
    "    On Mac:\n",
    "        brew install graphviz\n",
    "        brew cask install mactex\n",
    "    On Windows:\n",
    "        winget install graphviz\n",
    "        winget install TeXLive\n",
    "```"
   ]
  },
  {
   "cell_type": "markdown",
   "metadata": {},
   "source": [
    "<a id='ta10t'></a>"
   ]
  },
  {
   "cell_type": "markdown",
   "metadata": {},
   "source": [
    "## Traceability\n",
    "Traceability reports are designed to capture all the information about the state of your system when an experiment was run. The report will include training graphs, operator architecture diagrams, model architecture diagrams, a summary of your system configuration, and the values of all variables used to instantiate objects during training. It will also automatically save a copy of your log output to disk, which can be especially useful for comparing different experiment configurations without worrying about forgetting what settings were used for each run. To generate this report, simply add a Traceability trace to your list of traces:"
   ]
  },
  {
   "cell_type": "code",
   "execution_count": 2,
   "metadata": {},
   "outputs": [
    {
     "name": "stdout",
     "output_type": "stream",
     "text": [
      "The root save directory is: /var/folders/3r/h9kh47050gv6rbt_pgf8cl540000gn/T/tmptrgna3na\n",
      "The traceability report will be written to: /var/folders/3r/h9kh47050gv6rbt_pgf8cl540000gn/T/tmptrgna3na/report\n",
      "Logs and images from the report will be written to: /var/folders/3r/h9kh47050gv6rbt_pgf8cl540000gn/T/tmptrgna3na/report/resources\n"
     ]
    }
   ],
   "source": [
    "from fastestimator.trace.io import Traceability\n",
    "\n",
    "save_dir = os.path.join(root_output_dir, 'report')\n",
    "est = get_estimator([Traceability(save_dir)])\n",
    "\n",
    "print(f\"The root save directory is: {root_output_dir}\")\n",
    "print(f\"The traceability report will be written to: {save_dir}\")\n",
    "print(f\"Logs and images from the report will be written to: {os.path.join(save_dir, 'resources')}\")"
   ]
  },
  {
   "cell_type": "markdown",
   "metadata": {},
   "source": [
    "When using Traceability, you must pass a summary name to the Estimator.fit() call. This will become the name of your report."
   ]
  },
  {
   "cell_type": "code",
   "execution_count": 3,
   "metadata": {
    "collapsed": true,
    "jupyter": {
     "outputs_hidden": true
    },
    "tags": []
   },
   "outputs": [
    {
     "name": "stdout",
     "output_type": "stream",
     "text": [
      "    ______           __  ______     __  _                 __            \n",
      "   / ____/___ ______/ /_/ ____/____/ /_(_)___ ___  ____ _/ /_____  _____\n",
      "  / /_  / __ `/ ___/ __/ __/ / ___/ __/ / __ `__ \\/ __ `/ __/ __ \\/ ___/\n",
      " / __/ / /_/ (__  ) /_/ /___(__  ) /_/ / / / / / / /_/ / /_/ /_/ / /    \n",
      "/_/    \\__,_/____/\\__/_____/____/\\__/_/_/ /_/ /_/\\__,_/\\__/\\____/_/     \n",
      "                                                                        \n",
      "\n",
      "FastEstimator-Start: step: 1; logging_interval: 10; num_device: 0;\n",
      "FastEstimator-Train: step: 1; ce: 2.29492; model_lr: 0.0009999998;\n",
      "FastEstimator-Train: step: 10; ce: 2.2441; model_lr: 0.0009999825; steps/sec: 70.13;\n",
      "FastEstimator-Train: step: 20; ce: 1.6545596; model_lr: 0.0009999298; steps/sec: 65.46;\n",
      "FastEstimator-Train: step: 30; ce: 0.7863882; model_lr: 0.0009998423; steps/sec: 68.01;\n",
      "FastEstimator-Train: step: 40; ce: 0.8883647; model_lr: 0.0009997196; steps/sec: 67.27;\n",
      "FastEstimator-Train: step: 50; ce: 0.57198644; model_lr: 0.0009995619; steps/sec: 64.75;\n",
      "FastEstimator-Train: step: 60; ce: 0.96408165; model_lr: 0.0009993691; steps/sec: 59.96;\n",
      "FastEstimator-Train: step: 70; ce: 0.6204411; model_lr: 0.0009991414; steps/sec: 65.0;\n",
      "FastEstimator-Train: step: 80; ce: 0.46853542; model_lr: 0.0009988786; steps/sec: 62.4;\n",
      "FastEstimator-Train: step: 90; ce: 0.6022613; model_lr: 0.0009985808; steps/sec: 63.77;\n",
      "FastEstimator-Train: step: 100; ce: 0.31527373; model_lr: 0.0009982482; steps/sec: 67.53;\n",
      "FastEstimator-Train: step: 100; epoch: 1; epoch_time: 2.97 sec;\n",
      "FastEstimator-BestModelSaver: Saved model to /var/folders/3r/h9kh47050gv6rbt_pgf8cl540000gn/T/tmptrgna3na/model_best_accuracy.h5\n",
      "FastEstimator-Eval: step: 100; epoch: 1; accuracy: 0.88; ce: 0.4036578; max_accuracy: 0.88; since_best_accuracy: 0;\n",
      "FastEstimator-Train: step: 110; ce: 0.2963678; model_lr: 0.0009978806; steps/sec: 16.23;\n",
      "FastEstimator-Train: step: 120; ce: 0.7164498; model_lr: 0.000997478; steps/sec: 64.31;\n",
      "FastEstimator-Train: step: 130; ce: 0.45244628; model_lr: 0.0009970407; steps/sec: 63.75;\n",
      "FastEstimator-Train: step: 140; ce: 0.12593144; model_lr: 0.0009965684; steps/sec: 65.46;\n",
      "FastEstimator-Train: step: 150; ce: 0.24340093; model_lr: 0.0009960613; steps/sec: 64.74;\n",
      "FastEstimator-Train: step: 160; ce: 0.19809574; model_lr: 0.0009955195; steps/sec: 64.78;\n",
      "FastEstimator-Train: step: 170; ce: 0.2975997; model_lr: 0.0009949428; steps/sec: 61.15;\n",
      "FastEstimator-Train: step: 180; ce: 0.18596129; model_lr: 0.0009943316; steps/sec: 57.29;\n",
      "FastEstimator-Train: step: 190; ce: 0.16816229; model_lr: 0.0009936856; steps/sec: 51.65;\n",
      "FastEstimator-Train: step: 200; ce: 0.1781869; model_lr: 0.000993005; steps/sec: 60.26;\n",
      "FastEstimator-Train: step: 200; epoch: 2; epoch_time: 2.09 sec;\n",
      "FastEstimator-BestModelSaver: Saved model to /var/folders/3r/h9kh47050gv6rbt_pgf8cl540000gn/T/tmptrgna3na/model_best_accuracy.h5\n",
      "FastEstimator-Eval: step: 200; epoch: 2; accuracy: 0.936875; ce: 0.20415045; max_accuracy: 0.936875; since_best_accuracy: 0;\n",
      "FastEstimator-Finish: step: 200; model_lr: 0.000993005; total_time: 6.86 sec;\n",
      "FastEstimator-Traceability: Report written to /var/folders/3r/h9kh47050gv6rbt_pgf8cl540000gn/T/tmptrgna3na/report/sample_mnist_report.pdf\n"
     ]
    },
    {
     "data": {
      "text/plain": [
       "<fastestimator.summary.summary.Summary at 0x17a55be80>"
      ]
     },
     "execution_count": 3,
     "metadata": {},
     "output_type": "execute_result"
    }
   ],
   "source": [
    "est.fit(\"Sample MNIST Report\")"
   ]
  },
  {
   "cell_type": "markdown",
   "metadata": {},
   "source": [
    "If everything went according to plan, then inside your root save directory you should now have the following files:\n",
    "\n",
    "```\n",
    "/report\n",
    "    sample_mnist_report.pdf\n",
    "    sample_mnist_report.tex\n",
    "    /resources\n",
    "        sample_mnist_report_logs.png\n",
    "        sample_mnist_report_model.pdf\n",
    "        sample_mnist_report.txt\n",
    "```\n",
    "\n",
    "You could then switch up your experiment parameters and call .fit() with a new experiment name in order to write more reports into the same folder. A call to `fastestimator logs ./resources` would then allow you to easily compare these experiments, as described in [Advanced Tutorial 6](./t06_summary.ipynb)\n",
    "\n",
    "Our report should look something like this (use Chrome or Firefox to view):"
   ]
  },
  {
   "cell_type": "code",
   "execution_count": 4,
   "metadata": {},
   "outputs": [
    {
     "data": {
      "text/html": [
       "\n",
       "        <iframe\n",
       "            width=\"600\"\n",
       "            height=\"800\"\n",
       "            src=\"../resources/t10a_traceability.pdf\"\n",
       "            frameborder=\"0\"\n",
       "            allowfullscreen\n",
       "            \n",
       "        ></iframe>\n",
       "        "
      ],
      "text/plain": [
       "<IPython.lib.display.IFrame at 0x17bc8c1c0>"
      ]
     },
     "execution_count": 4,
     "metadata": {},
     "output_type": "execute_result"
    }
   ],
   "source": [
    "from IPython.display import IFrame\n",
    "IFrame('../resources/t10a_traceability.pdf', width=600, height=800)"
   ]
  },
  {
   "cell_type": "markdown",
   "metadata": {},
   "source": [
    "<a id='ta10tr'></a>"
   ]
  },
  {
   "cell_type": "markdown",
   "metadata": {},
   "source": [
    "## Test Report\n",
    "Test Reports can provide an automatically generated overview summary of how well your model is performing. This could be useful if, for example, you needed to submit documentation to a regulatory agency. Test Reports can also be used to highlight particular failure cases so that you can investigate problematic data points in more detail.\n",
    "\n",
    "The `TestReport` trace takes a list of `TestCase` objects as input. These are further subdivided into two types: aggregate and per-instance. Aggregate test cases run at the end of the test epoch and deal with aggregated information (typically metrics such as accuracy). Per-instance tests run at the end of every step during testing, and are meant to evaluate every element within a batch independently. If your data dictionary happens to contain data instance ids, you can also use these to find problematic inputs. "
   ]
  },
  {
   "cell_type": "code",
   "execution_count": 5,
   "metadata": {},
   "outputs": [
    {
     "name": "stdout",
     "output_type": "stream",
     "text": [
      "The root save directory is: /var/folders/3r/h9kh47050gv6rbt_pgf8cl540000gn/T/tmptrgna3na\n",
      "The test report will be written to: /var/folders/3r/h9kh47050gv6rbt_pgf8cl540000gn/T/tmptrgna3na/report2\n",
      "A json summary of the report will be written to: /var/folders/3r/h9kh47050gv6rbt_pgf8cl540000gn/T/tmptrgna3na/report2/resources\n"
     ]
    }
   ],
   "source": [
    "from fastestimator.trace.io.test_report import TestCase, TestReport\n",
    "\n",
    "save_dir = os.path.join(root_output_dir, 'report2')\n",
    "\n",
    "# Note that the name of the input to the 'criteria' function must match a key in the data dictionary\n",
    "agg_test_easy = TestCase(description='Accuracy should be greater than 1%', criteria=lambda accuracy: accuracy > 0.01)\n",
    "agg_test_hard = TestCase(description='Accuracy should be greater than 99%', criteria=lambda accuracy: accuracy > 0.99)\n",
    "\n",
    "inst_test_hard = TestCase(description='All Data should be correctly classified', criteria=lambda y, y_pred: np.equal(y,np.argmax(y_pred, axis=-1)), aggregate=False, fail_threshold=0)\n",
    "inst_test_easy = TestCase(description='At least one image should be correctly classified', criteria=lambda y, y_pred: np.equal(y,np.argmax(y_pred, axis=-1)), aggregate=False, fail_threshold=len(est.pipeline.data['test'])-1)\n",
    "\n",
    "report = TestReport(test_cases=[agg_test_easy, agg_test_hard, inst_test_easy, inst_test_hard], save_path=save_dir, data_id='id')\n",
    "\n",
    "est = get_estimator([report])\n",
    "\n",
    "print(f\"The root save directory is: {root_output_dir}\")\n",
    "print(f\"The test report will be written to: {save_dir}\")\n",
    "print(f\"A json summary of the report will be written to: {os.path.join(save_dir, 'resources')}\")"
   ]
  },
  {
   "cell_type": "code",
   "execution_count": 6,
   "metadata": {
    "collapsed": true,
    "jupyter": {
     "outputs_hidden": true
    },
    "tags": []
   },
   "outputs": [
    {
     "name": "stdout",
     "output_type": "stream",
     "text": [
      "    ______           __  ______     __  _                 __            \n",
      "   / ____/___ ______/ /_/ ____/____/ /_(_)___ ___  ____ _/ /_____  _____\n",
      "  / /_  / __ `/ ___/ __/ __/ / ___/ __/ / __ `__ \\/ __ `/ __/ __ \\/ ___/\n",
      " / __/ / /_/ (__  ) /_/ /___(__  ) /_/ / / / / / / /_/ / /_/ /_/ / /    \n",
      "/_/    \\__,_/____/\\__/_____/____/\\__/_/_/ /_/ /_/\\__,_/\\__/\\____/_/     \n",
      "                                                                        \n",
      "\n",
      "FastEstimator-Start: step: 1; logging_interval: 10; num_device: 0;\n",
      "FastEstimator-Train: step: 1; ce: 2.3143482; model1_lr: 0.0009999998;\n",
      "FastEstimator-Train: step: 10; ce: 2.1496544; model1_lr: 0.0009999825; steps/sec: 52.26;\n",
      "FastEstimator-Train: step: 20; ce: 1.8073351; model1_lr: 0.0009999298; steps/sec: 53.76;\n",
      "FastEstimator-Train: step: 30; ce: 1.1469091; model1_lr: 0.0009998423; steps/sec: 54.22;\n",
      "FastEstimator-Train: step: 40; ce: 0.58918655; model1_lr: 0.0009997196; steps/sec: 51.02;\n",
      "FastEstimator-Train: step: 50; ce: 0.51719546; model1_lr: 0.0009995619; steps/sec: 50.71;\n",
      "FastEstimator-Train: step: 60; ce: 1.4550462; model1_lr: 0.0009993691; steps/sec: 53.08;\n",
      "FastEstimator-Train: step: 70; ce: 0.30743462; model1_lr: 0.0009991414; steps/sec: 54.5;\n",
      "FastEstimator-Train: step: 80; ce: 0.42680097; model1_lr: 0.0009988786; steps/sec: 49.95;\n",
      "FastEstimator-Train: step: 90; ce: 0.40482238; model1_lr: 0.0009985808; steps/sec: 53.35;\n",
      "FastEstimator-Train: step: 100; ce: 0.48199874; model1_lr: 0.0009982482; steps/sec: 51.36;\n",
      "FastEstimator-Train: step: 100; epoch: 1; epoch_time: 2.67 sec;\n",
      "FastEstimator-BestModelSaver: Saved model to /var/folders/3r/h9kh47050gv6rbt_pgf8cl540000gn/T/tmptrgna3na/model1_best_accuracy.h5\n",
      "FastEstimator-Eval: step: 100; epoch: 1; accuracy: 0.8759375; ce: 0.39020747; max_accuracy: 0.8759375; since_best_accuracy: 0;\n",
      "FastEstimator-Train: step: 110; ce: 0.42094475; model1_lr: 0.0009978806; steps/sec: 13.26;\n",
      "FastEstimator-Train: step: 120; ce: 0.40665025; model1_lr: 0.000997478; steps/sec: 53.11;\n",
      "FastEstimator-Train: step: 130; ce: 0.3574287; model1_lr: 0.0009970407; steps/sec: 51.02;\n",
      "FastEstimator-Train: step: 140; ce: 0.14667201; model1_lr: 0.0009965684; steps/sec: 54.13;\n",
      "FastEstimator-Train: step: 150; ce: 0.41308922; model1_lr: 0.0009960613; steps/sec: 54.12;\n",
      "FastEstimator-Train: step: 160; ce: 0.12534323; model1_lr: 0.0009955195; steps/sec: 53.03;\n",
      "FastEstimator-Train: step: 170; ce: 0.18102367; model1_lr: 0.0009949428; steps/sec: 51.0;\n",
      "FastEstimator-Train: step: 180; ce: 0.13506973; model1_lr: 0.0009943316; steps/sec: 52.05;\n",
      "FastEstimator-Train: step: 190; ce: 0.10690997; model1_lr: 0.0009936856; steps/sec: 51.8;\n",
      "FastEstimator-Train: step: 200; ce: 0.14696348; model1_lr: 0.000993005; steps/sec: 53.67;\n",
      "FastEstimator-Train: step: 200; epoch: 2; epoch_time: 2.51 sec;\n",
      "FastEstimator-BestModelSaver: Saved model to /var/folders/3r/h9kh47050gv6rbt_pgf8cl540000gn/T/tmptrgna3na/model1_best_accuracy.h5\n",
      "FastEstimator-Eval: step: 200; epoch: 2; accuracy: 0.9275; ce: 0.22968279; max_accuracy: 0.9275; since_best_accuracy: 0;\n",
      "FastEstimator-Finish: step: 200; model1_lr: 0.000993005; total_time: 7.65 sec;\n",
      "FastEstimator-Test: step: 200; epoch: 2; accuracy: 0.97; ce: 0.14020246;\n",
      "FastEstimator-TestReport: Report written to /var/folders/3r/h9kh47050gv6rbt_pgf8cl540000gn/T/tmptrgna3na/report2/mnist_TestReport.pdf\n"
     ]
    },
    {
     "data": {
      "text/plain": [
       "<fastestimator.summary.summary.Summary at 0x17ba5ddc0>"
      ]
     },
     "execution_count": 6,
     "metadata": {},
     "output_type": "execute_result"
    }
   ],
   "source": [
    "est.fit(\"MNIST\")\n",
    "est.test()"
   ]
  },
  {
   "cell_type": "markdown",
   "metadata": {},
   "source": [
    "If everything went according to plan, then inside your root save directory you should now have the following files:\n",
    "\n",
    "```\n",
    "/report2\n",
    "    mnist_TestReport.pdf\n",
    "    mnist_TestReport.tex\n",
    "    /resources\n",
    "        mnist_TestReport.json\n",
    "```\n",
    "\n",
    "Our report should look something like this (use Chrome or Firefox to view):"
   ]
  },
  {
   "cell_type": "code",
   "execution_count": 7,
   "metadata": {},
   "outputs": [
    {
     "data": {
      "text/html": [
       "\n",
       "        <iframe\n",
       "            width=\"600\"\n",
       "            height=\"800\"\n",
       "            src=\"../resources/t10a_test.pdf\"\n",
       "            frameborder=\"0\"\n",
       "            allowfullscreen\n",
       "            \n",
       "        ></iframe>\n",
       "        "
      ],
      "text/plain": [
       "<IPython.lib.display.IFrame at 0x17b89baf0>"
      ]
     },
     "execution_count": 7,
     "metadata": {},
     "output_type": "execute_result"
    }
   ],
   "source": [
    "from IPython.display import IFrame\n",
    "IFrame('../resources/t10a_test.pdf', width=600, height=800)"
   ]
  }
 ],
 "metadata": {
  "kernelspec": {
   "display_name": "Python 3 (ipykernel)",
   "language": "python",
   "name": "python3"
  },
  "language_info": {
   "codemirror_mode": {
    "name": "ipython",
    "version": 3
   },
   "file_extension": ".py",
   "mimetype": "text/x-python",
   "name": "python",
   "nbconvert_exporter": "python",
   "pygments_lexer": "ipython3",
   "version": "3.8.12"
  }
 },
 "nbformat": 4,
 "nbformat_minor": 4
}
