{
 "cells": [
  {
   "cell_type": "markdown",
   "metadata": {},
   "source": [
    "# Advanced Tutorial 15: Finetuning Tutorial"
   ]
  },
  {
   "cell_type": "markdown",
   "metadata": {},
   "source": [
    "## Overview\n",
    "In this tutorial we are going to cover finetuning using FastEstimator. This tutorial is structured as follows:\n",
    "\n",
    "* [Setting Things Up](#ta15setup)\n",
    "    * [Define Reusable Methods](#ta15resuable)\n",
    "* [Tensorflow Workflow](#ta15tfworkflow)\n",
    "    * [Train Base Model](#ta15tftrain)\n",
    "    * [Extending Base Model for Finetuning](#ta15tfmodify)\n",
    "        * [Import Pretrained Model](#ta15tffreeze)\n",
    "        * [Extending Base Model](#ta15tfunfreeze)\n",
    "        * [Combine Base Model and Finetune Model](#ta15tfcombine)\n",
    "    * [Start Finetuning](#ta15tffinetune)\n",
    "* [Pytorch Workflow](#ta15pytorchworkflow)\n",
    "    * [Train Base Model](#ta15pytorchtrain)\n",
    "    * [Extending Base Model for Finetuning](#ta15pytorchmodify)\n",
    "        * [Import Pretrained Model](#ta15pytorchfreeze)\n",
    "        * [Extending Base Model](#ta15pytorchunfreeze)\n",
    "        * [Combine Base Model and Finetune Model](#ta15torchcombine)\n",
    "    * [Start Finetuning](#ta15pytorchfinetune)"
   ]
  },
  {
   "cell_type": "markdown",
   "metadata": {},
   "source": [
    "### Setting Things Up <a id='ta15setup'></a>"
   ]
  },
  {
   "cell_type": "markdown",
   "metadata": {},
   "source": [
    "#### First let's get some imports out of the way:"
   ]
  },
  {
   "cell_type": "code",
   "execution_count": 1,
   "metadata": {},
   "outputs": [],
   "source": [
    "import os\n",
    "import tempfile\n",
    "\n",
    "import tensorflow as tf\n",
    "\n",
    "# Since we will be mixing TF and Torch in the tutorial, we need to stop TF from taking all of the GPU memory.\n",
    "# Normally you would pick either TF or Torch, so you don't need to worry about this.\n",
    "physical_devices = tf.config.list_physical_devices('GPU')\n",
    "for device in physical_devices:\n",
    "    try:\n",
    "        tf.config.experimental.set_memory_growth(device, True)\n",
    "    except:\n",
    "        pass\n",
    "\n",
    "import fastestimator as fe\n",
    "from fastestimator.trace.metric import Accuracy\n",
    "from fastestimator.op.numpyop.univariate import ChannelTranspose, CoarseDropout, Normalize, Onehot\n",
    "from fastestimator.op.numpyop.meta import Sometimes\n",
    "from fastestimator.op.numpyop.multivariate import HorizontalFlip, PadIfNeeded, RandomCrop\n",
    "from fastestimator.schedule.schedule import EpochScheduler\n",
    "from fastestimator.op.tensorop.loss import CrossEntropy\n",
    "from fastestimator.op.tensorop.model import ModelOp, UpdateOp\n",
    "from fastestimator.dataset.data import cifair100, cifair10\n",
    "from fastestimator.op.tensorop.model import ModelOp, UpdateOp\n",
    "\n",
    "from fastestimator.architecture.tensorflow import LeNet as lenet_tf\n",
    "from tensorflow.keras import Sequential, layers\n",
    "from tensorflow.keras import Model\n",
    "from fastestimator.architecture.pytorch import LeNet as lenet_torch\n",
    "import torch.nn as nn\n",
    "from torch import load, Tensor, cuda, save\n",
    "\n",
    "import torch.nn.functional as fn"
   ]
  },
  {
   "cell_type": "markdown",
   "metadata": {},
   "source": [
    "#### Define Reusable Methods <a id='ta15resuable'></a>"
   ]
  },
  {
   "cell_type": "code",
   "execution_count": 2,
   "metadata": {},
   "outputs": [],
   "source": [
    "def get_pipeline(dataset, num_classes, batch_size, mode='tf', min_height=40, min_width=40):\n",
    "\n",
    "    train_data, eval_data = dataset.load_data()\n",
    "\n",
    "    mean_value = (0.4914, 0.4822, 0.4465)\n",
    "    std_value = (0.2471, 0.2435, 0.2616)\n",
    "\n",
    "    ops = [ Normalize(inputs=\"x\", outputs=\"x\", mean=mean_value, std=std_value),\n",
    "            PadIfNeeded(min_height=min_height, min_width=min_width, image_in=\"x\", image_out=\"x\", mode=\"train\"),\n",
    "            RandomCrop(32, 32, image_in=\"x\", image_out=\"x\", mode=\"train\"),\n",
    "            Sometimes(HorizontalFlip(image_in=\"x\", image_out=\"x\", mode=\"train\")),\n",
    "            CoarseDropout(inputs=\"x\", outputs=\"x\", mode=\"train\", max_holes=1),\n",
    "            Onehot(inputs=\"y\", outputs=\"y\", mode=\"train\", num_classes=num_classes, label_smoothing=0.2)]\n",
    "\n",
    "    if mode == 'torch':\n",
    "        ops.append(ChannelTranspose(inputs=\"x\", outputs=\"x\"))\n",
    "                \n",
    "    return fe.Pipeline(\n",
    "                train_data=train_data,\n",
    "                eval_data=eval_data,\n",
    "                batch_size=batch_size,\n",
    "                ops=ops)\n",
    "\n",
    "def get_network(model):\n",
    "    return  fe.Network(ops=[\n",
    "        ModelOp(model=model, inputs=\"x\", outputs=\"y_pred\"),\n",
    "        CrossEntropy(inputs=(\"y_pred\", \"y\"), outputs=\"ce\"),\n",
    "        UpdateOp(model=model, loss_name=\"ce\")])\n",
    "\n",
    "def get_estimator(pipeline, network, epochs):\n",
    "    traces = [Accuracy(true_key=\"y\", pred_key=\"y_pred\")]\n",
    "\n",
    "    return fe.Estimator(pipeline=pipeline,\n",
    "                                network=network,\n",
    "                                epochs=epochs,\n",
    "                                traces=traces,\n",
    "                                log_steps=0)"
   ]
  },
  {
   "cell_type": "markdown",
   "metadata": {},
   "source": [
    "#### Let's load some default training parameters as well"
   ]
  },
  {
   "cell_type": "code",
   "execution_count": 3,
   "metadata": {},
   "outputs": [],
   "source": [
    "#training parameters\n",
    "epochs_pretrain = 10\n",
    "\n",
    "epochs_finetune = 5\n",
    "\n",
    "batch_size = 64\n",
    "\n",
    "base_num_classes = 100 \n",
    "\n",
    "finetune_num_classes = 10\n",
    "\n",
    "model_dir = tempfile.gettempdir()"
   ]
  },
  {
   "cell_type": "markdown",
   "metadata": {},
   "source": [
    "### Tensorflow Workflow <a id='ta15tfworkflow'></a>"
   ]
  },
  {
   "cell_type": "markdown",
   "metadata": {},
   "source": [
    "#### Train Base Model <a id='ta15tftrain'></a>"
   ]
  },
  {
   "cell_type": "markdown",
   "metadata": {},
   "source": [
    "Now that boring stuff is done, let's train our first base model. We are using tensorflow LeNet to train on cifar100 with 100 classes. We are training for 10 epochs and saving the model at the end of the training job."
   ]
  },
  {
   "cell_type": "code",
   "execution_count": 4,
   "metadata": {},
   "outputs": [
    {
     "name": "stderr",
     "output_type": "stream",
     "text": [
      "2022-04-28 17:29:24.469363: I tensorflow/core/platform/cpu_feature_guard.cc:151] This TensorFlow binary is optimized with oneAPI Deep Neural Network Library (oneDNN) to use the following CPU instructions in performance-critical operations:  AVX2 FMA\n",
      "To enable them in other operations, rebuild TensorFlow with the appropriate compiler flags.\n",
      "2022-04-28 17:29:26.182234: I tensorflow/core/common_runtime/gpu/gpu_device.cc:1525] Created device /job:localhost/replica:0/task:0/device:GPU:0 with 38420 MB memory:  -> device: 0, name: NVIDIA A100-SXM4-40GB, pci bus id: 0000:bd:00.0, compute capability: 8.0\n",
      "2022-04-28 17:29:28.562053: W tensorflow/python/util/util.cc:368] Sets are not currently considered sequences, but this may change in the future, so consider avoiding using them.\n"
     ]
    },
    {
     "name": "stdout",
     "output_type": "stream",
     "text": [
      "    ______           __  ______     __  _                 __            \n",
      "   / ____/___ ______/ /_/ ____/____/ /_(_)___ ___  ____ _/ /_____  _____\n",
      "  / /_  / __ `/ ___/ __/ __/ / ___/ __/ / __ `__ \\/ __ `/ __/ __ \\/ ___/\n",
      " / __/ / /_/ (__  ) /_/ /___(__  ) /_/ / / / / / / /_/ / /_/ /_/ / /    \n",
      "/_/    \\__,_/____/\\__/_____/____/\\__/_/_/ /_/ /_/\\__,_/\\__/\\____/_/     \n",
      "                                                                        \n",
      "\n",
      "FastEstimator-Warn: No ModelSaver Trace detected. Models will not be saved.\n",
      "FastEstimator-Start: step: 1; logging_interval: 0; num_device: 1;\n"
     ]
    },
    {
     "name": "stderr",
     "output_type": "stream",
     "text": [
      "2022-04-28 17:29:35.097002: I tensorflow/stream_executor/cuda/cuda_dnn.cc:368] Loaded cuDNN version 8100\n",
      "2022-04-28 17:29:37.270702: I tensorflow/stream_executor/cuda/cuda_blas.cc:1786] TensorFloat-32 will be used for the matrix multiplication. This will only be logged once.\n"
     ]
    },
    {
     "name": "stdout",
     "output_type": "stream",
     "text": [
      "FastEstimator-Train: step: 782; epoch: 1;\n",
      "FastEstimator-Eval: step: 782; epoch: 1; accuracy: 0.1402; ce: 3.6746857;\n",
      "FastEstimator-Train: step: 1564; epoch: 2;\n",
      "FastEstimator-Eval: step: 1564; epoch: 2; accuracy: 0.2204; ce: 3.2619572;\n",
      "FastEstimator-Train: step: 2346; epoch: 3;\n",
      "FastEstimator-Eval: step: 2346; epoch: 3; accuracy: 0.2469; ce: 3.1025422;\n",
      "FastEstimator-Train: step: 3128; epoch: 4;\n",
      "FastEstimator-Eval: step: 3128; epoch: 4; accuracy: 0.2879; ce: 2.9410963;\n",
      "FastEstimator-Train: step: 3910; epoch: 5;\n",
      "FastEstimator-Eval: step: 3910; epoch: 5; accuracy: 0.2944; ce: 2.8627439;\n",
      "FastEstimator-Train: step: 4692; epoch: 6;\n",
      "FastEstimator-Eval: step: 4692; epoch: 6; accuracy: 0.3167; ce: 2.7871962;\n",
      "FastEstimator-Train: step: 5474; epoch: 7;\n",
      "FastEstimator-Eval: step: 5474; epoch: 7; accuracy: 0.324; ce: 2.7451925;\n",
      "FastEstimator-Train: step: 6256; epoch: 8;\n",
      "FastEstimator-Eval: step: 6256; epoch: 8; accuracy: 0.3267; ce: 2.7209747;\n",
      "FastEstimator-Train: step: 7038; epoch: 9;\n",
      "FastEstimator-Eval: step: 7038; epoch: 9; accuracy: 0.3453; ce: 2.6295624;\n",
      "FastEstimator-Train: step: 7820; epoch: 10;\n",
      "FastEstimator-Eval: step: 7820; epoch: 10; accuracy: 0.3513; ce: 2.601092;\n",
      "FastEstimator-Finish: step: 7820; model_lr: 0.001; total_time: 108.44 sec;\n"
     ]
    },
    {
     "data": {
      "text/plain": [
       "'/tmp/lenet_tf.h5'"
      ]
     },
     "execution_count": 4,
     "metadata": {},
     "output_type": "execute_result"
    }
   ],
   "source": [
    "tf_input_shape = (32, 32, 3)\n",
    "\n",
    "model_tf_pretrain = fe.build(model_fn=lambda: lenet_tf(input_shape=tf_input_shape, classes=base_num_classes), optimizer_fn=\"adam\")\n",
    "\n",
    "pipeline_tf_pretrain = get_pipeline(cifair100, base_num_classes, batch_size)\n",
    "\n",
    "network_tf_pretrain = get_network(model_tf_pretrain)\n",
    "\n",
    "estimator_tf_pretrain = get_estimator(pipeline_tf_pretrain, network_tf_pretrain, epochs_pretrain)\n",
    "\n",
    "estimator_tf_pretrain.fit(warmup=False)\n",
    "\n",
    "fe.backend.save_model(model_tf_pretrain, save_dir=model_dir, model_name= \"lenet_tf\")"
   ]
  },
  {
   "cell_type": "markdown",
   "metadata": {},
   "source": [
    "#### Load a new dataset for finetuning "
   ]
  },
  {
   "cell_type": "markdown",
   "metadata": {},
   "source": [
    "For finetuning, We use FastEstimator API to load the ciFAIR-10 dataset. You can use your own dataset by updating `get_pipeline` method."
   ]
  },
  {
   "cell_type": "code",
   "execution_count": 5,
   "metadata": {},
   "outputs": [],
   "source": [
    "pipeline_tf_finetune = get_pipeline(cifair10, finetune_num_classes, batch_size)"
   ]
  },
  {
   "cell_type": "markdown",
   "metadata": {},
   "source": [
    "#### Extending Base Model for Finetuning <a id='ta15tfmodify'></a>"
   ]
  },
  {
   "cell_type": "markdown",
   "metadata": {},
   "source": [
    "##### Import Pretrained Model <a id='ta15tffreeze'></a>"
   ]
  },
  {
   "cell_type": "markdown",
   "metadata": {},
   "source": [
    "Now we are ready to extend our base model with finetuning task.\n",
    "\n",
    "Let's load our pretrained weights saved in previous setup. The weights files are saved with `h5` extension, since we have given `lenet_tf` as model_name to the `save_model`  function the model weights are saved as `lenet_tf.h5`. \n"
   ]
  },
  {
   "cell_type": "code",
   "execution_count": 6,
   "metadata": {},
   "outputs": [],
   "source": [
    "weights_path = os.path.join(model_dir, \"lenet_tf.h5\")\n",
    "\n",
    "pretrained_lenet_tf = fe.build(model_fn=lambda: lenet_tf(input_shape=tf_input_shape, classes=base_num_classes), optimizer_fn=\"adam\", weights_path=weights_path)"
   ]
  },
  {
   "cell_type": "markdown",
   "metadata": {},
   "source": [
    "##### Extending Base Model <a id='ta15tfunfreeze'></a>"
   ]
  },
  {
   "cell_type": "markdown",
   "metadata": {},
   "source": [
    "Let's remove the classification head of pretrained model and build a backbone. We will be using `fe.build` to build a new fe model."
   ]
  },
  {
   "cell_type": "code",
   "execution_count": 7,
   "metadata": {},
   "outputs": [],
   "source": [
    "def get_tf_backbone(pretrained_model):\n",
    "\n",
    "    model = Model(inputs=pretrained_model.inputs, outputs=pretrained_model.layers[-3].output)\n",
    "\n",
    "    return model\n",
    "\n",
    "backbone_tf = fe.build(model_fn=lambda: get_tf_backbone(pretrained_lenet_tf), optimizer_fn=\"adam\")"
   ]
  },
  {
   "cell_type": "markdown",
   "metadata": {},
   "source": [
    "Next, we will define a classification head that can be used for the finetuning task. This is simply two `Dense` layers."
   ]
  },
  {
   "cell_type": "code",
   "execution_count": 8,
   "metadata": {},
   "outputs": [],
   "source": [
    "def get_class_head(finetune_num_classes):\n",
    "    return Sequential([layers.Dense(64, activation='relu', input_shape=(1024,)), \n",
    "                       layers.Dense(finetune_num_classes, activation='softmax')])\n",
    "    \n",
    "cls_head_tf_finetune = fe.build(model_fn=lambda: get_class_head(finetune_num_classes), optimizer_fn=\"adam\")"
   ]
  },
  {
   "cell_type": "markdown",
   "metadata": {},
   "source": [
    "##### Combine Base Model and Finetune Model <a id='ta15tfcombine'></a>"
   ]
  },
  {
   "cell_type": "markdown",
   "metadata": {},
   "source": [
    "If you want to save the finetune model, we can combine the `Backbone Model` and the `Class Head Model` and provide it to ModelSaver later. "
   ]
  },
  {
   "cell_type": "code",
   "execution_count": 9,
   "metadata": {},
   "outputs": [],
   "source": [
    "def combined_tf_model(backbone_model, cls_head_finetune):\n",
    "\n",
    "    backbone_output = backbone_model.layers[-1].output\n",
    "    x = cls_head_finetune.layers[0](backbone_output)\n",
    "    x = cls_head_finetune.layers[1](x)\n",
    "    model = Model(inputs=backbone_model.inputs, outputs=x)\n",
    "    return model\n",
    "\n",
    "final_model_tf = fe.build(model_fn=lambda: combined_tf_model(backbone_tf, cls_head_tf_finetune),  optimizer_fn=\"adam\")"
   ]
  },
  {
   "cell_type": "markdown",
   "metadata": {},
   "source": [
    "#### Start Finetuning <a id='ta15tffinetune'></a>"
   ]
  },
  {
   "cell_type": "markdown",
   "metadata": {},
   "source": [
    "For Finetuning, we want to train different part of the network in the following manner:\n",
    "- epoch 1-3: `freeze` backbone, `train` classification head only\n",
    "- epoch 4-end: `train` backbone and classification head `together`\n",
    "\n",
    "Let's use EpochScheduler to define when backbone and class head weights are updated. UpdateOp is responsible for weight updating. "
   ]
  },
  {
   "cell_type": "code",
   "execution_count": 10,
   "metadata": {},
   "outputs": [],
   "source": [
    "network_tf_finetune = fe.Network(ops=[\n",
    "                                ModelOp(model=backbone_tf, inputs=\"x\", outputs=\"feature\"),\n",
    "                                ModelOp(model=cls_head_tf_finetune, inputs=\"feature\", outputs=\"y_pred\"),\n",
    "                                CrossEntropy(inputs=(\"y_pred\", \"y\"), outputs=\"ce\", from_logits=True),\n",
    "                                EpochScheduler({1: None, 4: UpdateOp(model=backbone_tf, loss_name=\"ce\")}),\n",
    "                                EpochScheduler({1: UpdateOp(model=cls_head_tf_finetune, loss_name=\"ce\")})])\n",
    "\n",
    "estimator_tf_finetune = get_estimator(pipeline_tf_finetune, network_tf_finetune, epochs_finetune)"
   ]
  },
  {
   "cell_type": "markdown",
   "metadata": {},
   "source": [
    "Let's train our finetune model using pretrained weights on our new dataset."
   ]
  },
  {
   "cell_type": "code",
   "execution_count": 11,
   "metadata": {},
   "outputs": [
    {
     "name": "stdout",
     "output_type": "stream",
     "text": [
      "    ______           __  ______     __  _                 __            \n",
      "   / ____/___ ______/ /_/ ____/____/ /_(_)___ ___  ____ _/ /_____  _____\n",
      "  / /_  / __ `/ ___/ __/ __/ / ___/ __/ / __ `__ \\/ __ `/ __/ __ \\/ ___/\n",
      " / __/ / /_/ (__  ) /_/ /___(__  ) /_/ / / / / / / /_/ / /_/ /_/ / /    \n",
      "/_/    \\__,_/____/\\__/_____/____/\\__/_/_/ /_/ /_/\\__,_/\\__/\\____/_/     \n",
      "                                                                        \n",
      "\n",
      "FastEstimator-Warn: No ModelSaver Trace detected. Models will not be saved.\n",
      "FastEstimator-Start: step: 1; logging_interval: 0; num_device: 1;\n"
     ]
    },
    {
     "name": "stderr",
     "output_type": "stream",
     "text": [
      "/usr/local/lib/python3.8/dist-packages/tensorflow/python/util/dispatch.py:1082: UserWarning:\n",
      "\n",
      "\"`categorical_crossentropy` received `from_logits=True`, but the `output` argument was produced by a sigmoid or softmax activation and thus does not represent logits. Was this intended?\"\n",
      "\n"
     ]
    },
    {
     "name": "stdout",
     "output_type": "stream",
     "text": [
      "FastEstimator-Train: step: 782; epoch: 1;\n"
     ]
    },
    {
     "name": "stderr",
     "output_type": "stream",
     "text": [
      "/usr/local/lib/python3.8/dist-packages/tensorflow/python/util/dispatch.py:1082: UserWarning:\n",
      "\n",
      "\"`sparse_categorical_crossentropy` received `from_logits=True`, but the `output` argument was produced by a sigmoid or softmax activation and thus does not represent logits. Was this intended?\"\n",
      "\n"
     ]
    },
    {
     "name": "stdout",
     "output_type": "stream",
     "text": [
      "FastEstimator-Eval: step: 782; epoch: 1; accuracy: 0.6009; ce: 1.1969987;\n",
      "FastEstimator-Train: step: 1564; epoch: 2;\n",
      "FastEstimator-Eval: step: 1564; epoch: 2; accuracy: 0.6269; ce: 1.1396555;\n",
      "FastEstimator-Train: step: 2346; epoch: 3;\n",
      "FastEstimator-Eval: step: 2346; epoch: 3; accuracy: 0.6305; ce: 1.1114084;\n",
      "FastEstimator-Train: step: 3128; epoch: 4;\n",
      "FastEstimator-Eval: step: 3128; epoch: 4; accuracy: 0.666; ce: 1.0342808;\n",
      "FastEstimator-Train: step: 3910; epoch: 5;\n",
      "FastEstimator-Eval: step: 3910; epoch: 5; accuracy: 0.674; ce: 1.0168855;\n",
      "FastEstimator-Finish: step: 3910; model2_lr: 0.001; model3_lr: 0.001; total_time: 50.76 sec;\n"
     ]
    }
   ],
   "source": [
    "estimator_tf_finetune.fit(warmup=False)"
   ]
  },
  {
   "cell_type": "markdown",
   "metadata": {},
   "source": [
    "Finally, let's save our finetuned model."
   ]
  },
  {
   "cell_type": "code",
   "execution_count": 12,
   "metadata": {},
   "outputs": [
    {
     "data": {
      "text/plain": [
       "'/tmp/final_tf_finetune.h5'"
      ]
     },
     "execution_count": 12,
     "metadata": {},
     "output_type": "execute_result"
    }
   ],
   "source": [
    "fe.backend.save_model(final_model_tf, save_dir=model_dir, model_name=\"final_tf_finetune\")"
   ]
  },
  {
   "cell_type": "markdown",
   "metadata": {},
   "source": [
    "### Pytorch Workflow <a id='ta15pytorchworkflow'></a>"
   ]
  },
  {
   "cell_type": "markdown",
   "metadata": {},
   "source": [
    "#### Train Base Model <a id='ta15pytorchtrain'></a>"
   ]
  },
  {
   "cell_type": "markdown",
   "metadata": {},
   "source": [
    "Let's train our first pytorch base model. We are using pytorch LeNet to train on cifar100 with 100 classes. We are training for 10 epochs and saving the model at the end of the training job."
   ]
  },
  {
   "cell_type": "code",
   "execution_count": 13,
   "metadata": {},
   "outputs": [
    {
     "name": "stdout",
     "output_type": "stream",
     "text": [
      "    ______           __  ______     __  _                 __            \n",
      "   / ____/___ ______/ /_/ ____/____/ /_(_)___ ___  ____ _/ /_____  _____\n",
      "  / /_  / __ `/ ___/ __/ __/ / ___/ __/ / __ `__ \\/ __ `/ __/ __ \\/ ___/\n",
      " / __/ / /_/ (__  ) /_/ /___(__  ) /_/ / / / / / / /_/ / /_/ /_/ / /    \n",
      "/_/    \\__,_/____/\\__/_____/____/\\__/_/_/ /_/ /_/\\__,_/\\__/\\____/_/     \n",
      "                                                                        \n",
      "\n",
      "FastEstimator-Warn: No ModelSaver Trace detected. Models will not be saved.\n",
      "FastEstimator-Start: step: 1; logging_interval: 0; num_device: 1;\n",
      "FastEstimator-Train: step: 782; epoch: 1;\n",
      "FastEstimator-Eval: step: 782; epoch: 1; accuracy: 0.1401; ce: 3.658039;\n",
      "FastEstimator-Train: step: 1564; epoch: 2;\n",
      "FastEstimator-Eval: step: 1564; epoch: 2; accuracy: 0.1941; ce: 3.3732774;\n",
      "FastEstimator-Train: step: 2346; epoch: 3;\n",
      "FastEstimator-Eval: step: 2346; epoch: 3; accuracy: 0.2451; ce: 3.1511996;\n",
      "FastEstimator-Train: step: 3128; epoch: 4;\n",
      "FastEstimator-Eval: step: 3128; epoch: 4; accuracy: 0.2643; ce: 3.025363;\n",
      "FastEstimator-Train: step: 3910; epoch: 5;\n",
      "FastEstimator-Eval: step: 3910; epoch: 5; accuracy: 0.2903; ce: 2.8853397;\n",
      "FastEstimator-Train: step: 4692; epoch: 6;\n",
      "FastEstimator-Eval: step: 4692; epoch: 6; accuracy: 0.2999; ce: 2.8033638;\n",
      "FastEstimator-Train: step: 5474; epoch: 7;\n",
      "FastEstimator-Eval: step: 5474; epoch: 7; accuracy: 0.3158; ce: 2.7701957;\n",
      "FastEstimator-Train: step: 6256; epoch: 8;\n",
      "FastEstimator-Eval: step: 6256; epoch: 8; accuracy: 0.3213; ce: 2.7396107;\n",
      "FastEstimator-Train: step: 7038; epoch: 9;\n",
      "FastEstimator-Eval: step: 7038; epoch: 9; accuracy: 0.334; ce: 2.7355165;\n",
      "FastEstimator-Train: step: 7820; epoch: 10;\n",
      "FastEstimator-Eval: step: 7820; epoch: 10; accuracy: 0.3326; ce: 2.655726;\n",
      "FastEstimator-Finish: step: 7820; model5_lr: 0.001; total_time: 115.39 sec;\n"
     ]
    },
    {
     "data": {
      "text/plain": [
       "'/tmp/lenet_torch.pt'"
      ]
     },
     "execution_count": 13,
     "metadata": {},
     "output_type": "execute_result"
    }
   ],
   "source": [
    "torch_input_shape = (3, 32, 32)\n",
    "\n",
    "model_torch_pretrain = fe.build(model_fn=lambda: lenet_torch(input_shape=torch_input_shape, classes=base_num_classes), optimizer_fn=\"adam\")\n",
    "\n",
    "pipeline_torch_pretrain = get_pipeline(cifair100, base_num_classes, batch_size, 'torch')\n",
    "\n",
    "network_torch_pretrain = get_network(model_torch_pretrain)\n",
    "\n",
    "estimator_torch_pretrain = get_estimator(pipeline_torch_pretrain, network_torch_pretrain, epochs_pretrain)\n",
    "\n",
    "estimator_torch_pretrain.fit()\n",
    "\n",
    "fe.backend.save_model(model_torch_pretrain, save_dir=model_dir, model_name=\"lenet_torch\")"
   ]
  },
  {
   "cell_type": "markdown",
   "metadata": {},
   "source": [
    "##### Load a new dataset for finetuning "
   ]
  },
  {
   "cell_type": "markdown",
   "metadata": {},
   "source": [
    "For finetuning, We use FastEstimator API to load the ciFAIR-10 dataset. You can use your own dataset by changing `get_pipeline` method."
   ]
  },
  {
   "cell_type": "code",
   "execution_count": 14,
   "metadata": {},
   "outputs": [],
   "source": [
    "pipeline_torch_finetune = get_pipeline(cifair10, finetune_num_classes, batch_size, 'torch')"
   ]
  },
  {
   "cell_type": "markdown",
   "metadata": {},
   "source": [
    "#### Extending Base Model for Finetuning <a id='ta15pytorchmodify'></a>"
   ]
  },
  {
   "cell_type": "markdown",
   "metadata": {},
   "source": [
    "##### Import Pretrained Model<a id='ta15pytorchfreeze'></a>"
   ]
  },
  {
   "cell_type": "markdown",
   "metadata": {},
   "source": [
    "Now we are ready to extend our base model with finetuning task.\n",
    "\n",
    "Let's load our pretrained weights saved in our previous setup. The weights files are saved with h5 extension, since we have given `lenet_torch` as model_name to the `save_model`  function the model weights are saved as `lenet_torch.pt`. Replace it if you used different model_name in `save_model` method.\n"
   ]
  },
  {
   "cell_type": "code",
   "execution_count": 15,
   "metadata": {},
   "outputs": [],
   "source": [
    "weights_path=os.path.join(model_dir, 'lenet_torch.pt')\n",
    "\n",
    "model_torch_pretrained = fe.build(model_fn=lambda: lenet_torch(input_shape=torch_input_shape, classes=base_num_classes), optimizer_fn=\"adam\", weights_path=weights_path)"
   ]
  },
  {
   "cell_type": "markdown",
   "metadata": {},
   "source": [
    "##### Extending Base Model <a id='ta15pytorchunfreeze'></a>"
   ]
  },
  {
   "cell_type": "markdown",
   "metadata": {},
   "source": [
    "Let's remove the last layer of pretrained model and build a new backbone. We will be using fe.build to build a new fe model."
   ]
  },
  {
   "cell_type": "code",
   "execution_count": 16,
   "metadata": {},
   "outputs": [],
   "source": [
    "class BackboneTorch(nn.Module):\n",
    "    def __init__(self, model_torch_pretrained) -> None:\n",
    "        super().__init__()\n",
    "        self.pool_kernel = 2\n",
    "        if isinstance(model_torch_pretrained, nn.DataParallel):\n",
    "            self.backbone_layers = nn.Sequential(*(list(model_torch_pretrained.module.children())[:-2]))\n",
    "        else:\n",
    "            self.backbone_layers = nn.Sequential(*(list(model_torch_pretrained.children())[:-2]))\n",
    "\n",
    "\n",
    "    def forward(self, x: Tensor) -> Tensor:\n",
    "        x = fn.relu(self.backbone_layers[0](x))\n",
    "        x = fn.max_pool2d(x, self.pool_kernel)\n",
    "        x = fn.relu(self.backbone_layers[1](x))\n",
    "        x = fn.max_pool2d(x, self.pool_kernel)\n",
    "        x = fn.relu(self.backbone_layers[2](x))\n",
    "        return x\n",
    "\n",
    "backbone_torch = fe.build(model_fn=lambda: BackboneTorch(model_torch_pretrained), optimizer_fn=\"adam\") "
   ]
  },
  {
   "cell_type": "markdown",
   "metadata": {},
   "source": [
    "Next, we will define a classification head that can be used for the finetuning task. This is simply two `nn.Linear` layers."
   ]
  },
  {
   "cell_type": "code",
   "execution_count": 17,
   "metadata": {},
   "outputs": [],
   "source": [
    "class ClassifierHead(nn.Module):\n",
    "    def __init__(self, classes=10):\n",
    "        super().__init__()\n",
    "        self.fc1 = nn.Linear(1024, 64)\n",
    "        self.fc2 = nn.Linear(64, classes)\n",
    "\n",
    "    def forward(self, x):\n",
    "        x = x.view(x.size(0), -1)\n",
    "        x = fn.relu(self.fc1(x))\n",
    "        x = fn.softmax(self.fc2(x), dim=-1)\n",
    "        return x\n",
    "\n",
    "cls_head_torch_finetune = fe.build(model_fn=lambda: ClassifierHead(classes=finetune_num_classes), optimizer_fn=\"adam\")"
   ]
  },
  {
   "cell_type": "markdown",
   "metadata": {},
   "source": [
    "##### Combine Base Model and Finetune Model <a id='ta15torchcombine'></a>"
   ]
  },
  {
   "cell_type": "markdown",
   "metadata": {},
   "source": [
    "If you want to save the finetune model, we can combine the `Backbone Model` and the `Class Head Model` and provide it to ModelSaver later. "
   ]
  },
  {
   "cell_type": "code",
   "execution_count": 18,
   "metadata": {},
   "outputs": [],
   "source": [
    "class CombinedTorchModel(nn.Module):\n",
    "    def __init__(self, backbone, cls_head):\n",
    "        super().__init__()\n",
    "        self.backbone = backbone\n",
    "        self.cls_head = cls_head\n",
    "\n",
    "    def forward(self, x):\n",
    "        x = self.backbone(x)\n",
    "        x = self.cls_head(x)\n",
    "        return x\n",
    "\n",
    "final_torch_model = fe.build(model_fn=lambda: CombinedTorchModel(backbone_torch, cls_head_torch_finetune), optimizer_fn=None) "
   ]
  },
  {
   "cell_type": "markdown",
   "metadata": {},
   "source": [
    "#### Start Finetuning <a id='ta15pytorchfinetune'></a>"
   ]
  },
  {
   "cell_type": "markdown",
   "metadata": {},
   "source": [
    "For Finetuning, we want to train different part of the network in the following manner:\n",
    "- epoch 1-3: `freeze` backbone, `train` classification head only\n",
    "- epoch 4-end: `train` backbone and classification head `together`\n",
    "\n",
    "Let's use EpochScheduler to define when backbone and class head weights are updated. UpdateOp is responsible for weight updating. "
   ]
  },
  {
   "cell_type": "code",
   "execution_count": 19,
   "metadata": {},
   "outputs": [],
   "source": [
    "network_torch_finetune = fe.Network(ops=[\n",
    "                                ModelOp(model=backbone_torch, inputs=\"x\", outputs=\"feature\"),\n",
    "                                ModelOp(model=cls_head_torch_finetune, inputs=\"feature\", outputs=\"y_pred\"),\n",
    "                                CrossEntropy(inputs=(\"y_pred\", \"y\"), outputs=\"ce\", from_logits=True),\n",
    "                                EpochScheduler({1: None, 4: UpdateOp(model=backbone_torch, loss_name=\"ce\")}),\n",
    "                                EpochScheduler({1: UpdateOp(model=cls_head_torch_finetune, loss_name=\"ce\")})])\n",
    "\n",
    "estimator_torch_finetune = get_estimator(pipeline_torch_finetune, network_torch_finetune, epochs_finetune)"
   ]
  },
  {
   "cell_type": "markdown",
   "metadata": {},
   "source": [
    "Let's train our finetune model using pretrained weights on our new dataset."
   ]
  },
  {
   "cell_type": "code",
   "execution_count": 20,
   "metadata": {},
   "outputs": [
    {
     "name": "stdout",
     "output_type": "stream",
     "text": [
      "    ______           __  ______     __  _                 __            \n",
      "   / ____/___ ______/ /_/ ____/____/ /_(_)___ ___  ____ _/ /_____  _____\n",
      "  / /_  / __ `/ ___/ __/ __/ / ___/ __/ / __ `__ \\/ __ `/ __/ __ \\/ ___/\n",
      " / __/ / /_/ (__  ) /_/ /___(__  ) /_/ / / / / / / /_/ / /_/ /_/ / /    \n",
      "/_/    \\__,_/____/\\__/_____/____/\\__/_/_/ /_/ /_/\\__,_/\\__/\\____/_/     \n",
      "                                                                        \n",
      "\n",
      "FastEstimator-Warn: No ModelSaver Trace detected. Models will not be saved.\n",
      "FastEstimator-Start: step: 1; logging_interval: 0; num_device: 1;\n",
      "FastEstimator-Train: step: 782; epoch: 1;\n",
      "FastEstimator-Eval: step: 782; epoch: 1; accuracy: 0.5877; ce: 1.8731252;\n",
      "FastEstimator-Train: step: 1564; epoch: 2;\n",
      "FastEstimator-Eval: step: 1564; epoch: 2; accuracy: 0.6221; ce: 1.838632;\n",
      "FastEstimator-Train: step: 2346; epoch: 3;\n",
      "FastEstimator-Eval: step: 2346; epoch: 3; accuracy: 0.6047; ce: 1.8550365;\n",
      "FastEstimator-Train: step: 3128; epoch: 4;\n",
      "FastEstimator-Eval: step: 3128; epoch: 4; accuracy: 0.6269; ce: 1.8336332;\n",
      "FastEstimator-Train: step: 3910; epoch: 5;\n",
      "FastEstimator-Eval: step: 3910; epoch: 5; accuracy: 0.6301; ce: 1.8286426;\n",
      "FastEstimator-Finish: step: 3910; model7_lr: 0.001; model8_lr: 0.001; total_time: 60.43 sec;\n"
     ]
    }
   ],
   "source": [
    "estimator_torch_finetune.fit()"
   ]
  },
  {
   "cell_type": "markdown",
   "metadata": {},
   "source": [
    "Finally, let's save our finetuned model."
   ]
  },
  {
   "cell_type": "code",
   "execution_count": 21,
   "metadata": {},
   "outputs": [
    {
     "data": {
      "text/plain": [
       "'/tmp/final_torch_finetune.pt'"
      ]
     },
     "execution_count": 21,
     "metadata": {},
     "output_type": "execute_result"
    }
   ],
   "source": [
    "fe.backend.save_model(final_torch_model, save_dir=model_dir, model_name=\"final_torch_finetune\")"
   ]
  }
 ],
 "metadata": {
  "celltoolbar": "Tags",
  "kernelspec": {
   "display_name": "Python 3",
   "language": "python",
   "name": "python3"
  },
  "language_info": {
   "codemirror_mode": {
    "name": "ipython",
    "version": 3
   },
   "file_extension": ".py",
   "mimetype": "text/x-python",
   "name": "python",
   "nbconvert_exporter": "python",
   "pygments_lexer": "ipython3",
   "version": "3.6.3-final"
  }
 },
 "nbformat": 4,
 "nbformat_minor": 4
}